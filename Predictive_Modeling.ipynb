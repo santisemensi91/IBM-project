{
  "cells": [
    {
      "cell_type": "markdown",
      "metadata": {},
      "source": [
        "<p style=\"text-align:center\">\n",
        "    <a href=\"https://skills.network/?utm_medium=Exinfluencer&utm_source=Exinfluencer&utm_content=000026UJ&utm_term=10006555&utm_id=NA-SkillsNetwork-Channel-SkillsNetworkCoursesIBMDS0321ENSkillsNetwork865-2022-01-01\" target=\"_blank\">\n",
        "    <img src=\"LogosAndGifs/SN_web_lightmode.png\" width=\"300\" alt=\"Skills Network Logo\"  />\n",
        "    </a>\n",
        "</p>\n"
      ]
    },
    {
      "cell_type": "markdown",
      "metadata": {},
      "source": [
        "# **Space X  Falcon 9 First Stage Landing Prediction**\n"
      ]
    },
    {
      "cell_type": "markdown",
      "metadata": {},
      "source": [
        "## Machine Learning Prediction\n"
      ]
    },
    {
      "cell_type": "markdown",
      "metadata": {},
      "source": [
        "Space X advertises Falcon 9 rocket launches on its website with a cost of 62 million dollars; other providers cost upward of 165 million dollars each, much of the savings is because Space X can reuse the first stage. Therefore if we can determine if the first stage will land, we can determine the cost of a launch. This information can be used if an alternate company wants to bid against space X for a rocket launch.   In this lab, you will create a machine learning pipeline  to predict if the first stage will land given the data from the preceding labs.\n"
      ]
    },
    {
      "cell_type": "markdown",
      "metadata": {},
      "source": [
        "![](LogosAndGifs/landing_1.gif)\n"
      ]
    },
    {
      "cell_type": "markdown",
      "metadata": {},
      "source": [
        "Several examples of an unsuccessful landing are shown here:\n"
      ]
    },
    {
      "cell_type": "markdown",
      "metadata": {},
      "source": [
        "![](LogosAndGifs/crash.gif)\n"
      ]
    },
    {
      "cell_type": "markdown",
      "metadata": {},
      "source": [
        "Most unsuccessful landings are planed. Space X; performs a controlled landing in the oceans.\n"
      ]
    },
    {
      "cell_type": "markdown",
      "metadata": {},
      "source": [
        "## Objectives\n"
      ]
    },
    {
      "cell_type": "markdown",
      "metadata": {},
      "source": [
        "Perform Exploratory Data Analysis and Determine Training Labels\n",
        "\n",
        "- Create a column for the class\n",
        "- Standardize the data\n",
        "- Split into training data and test data\n",
        "\n",
        "Find Best Hyperparameters for SVM, Classification Trees, and Logistic Regression\n",
        "\n",
        "- Find the method that performs best using test data\n",
        "\n",
        "## Additional Achievements\n",
        "\n",
        "I, Santiago Semensi, have taken further steps beyond the requirements of this course, by attempting and successfully achieving improvements in most of the predictive models. Additional graphs and visualizations were plotted to enhance the understanding of the data and the model performance. These efforts have contributed to a more comprehensive and insightful analysis.\n"
      ]
    },
    {
      "cell_type": "markdown",
      "metadata": {},
      "source": [
        "## Import Libraries and Define Auxiliary Functions\n"
      ]
    },
    {
      "cell_type": "markdown",
      "metadata": {},
      "source": [
        "We will import the following libraries for the lab\n"
      ]
    },
    {
      "cell_type": "code",
      "execution_count": 1,
      "metadata": {
        "trusted": true
      },
      "outputs": [],
      "source": [
        "# Pandas is a software library written for the Python programming language for data manipulation and analysis.\n",
        "import pandas as pd\n",
        "# NumPy is a library for the Python programming language, adding support for large, multi-dimensional arrays and matrices, along with a large collection of high-level mathematical functions to operate on these arrays\n",
        "import numpy as np\n",
        "# Matplotlib is a plotting library for python and pyplot gives us a MatLab like plotting framework. We will use this in our plotter function to plot data.\n",
        "import matplotlib.pyplot as plt\n",
        "#Seaborn is a Python data visualization library based on matplotlib. It provides a high-level interface for drawing attractive and informative statistical graphics\n",
        "import seaborn as sns\n",
        "# Preprocessing allows us to standarsize our data\n",
        "from sklearn import preprocessing\n",
        "# Allows us to split our data into training and testing data\n",
        "from sklearn.model_selection import train_test_split\n",
        "# Allows us to test parameters of classification algorithms and find the best one\n",
        "from sklearn.model_selection import GridSearchCV, KFold, RandomizedSearchCV, StratifiedKFold\n",
        "# Logistic Regression classification algorithm\n",
        "from sklearn.linear_model import LogisticRegression\n",
        "# Support Vector Machine classification algorithm\n",
        "from sklearn.svm import SVC\n",
        "# Decision Tree classification algorithm\n",
        "from sklearn.tree import DecisionTreeClassifier\n",
        "# K Nearest Neighbors classification algorithm\n",
        "from sklearn.neighbors import KNeighborsClassifier\n",
        "# Classification report\n",
        "from sklearn.metrics import classification_report\n",
        "# Polynomial Features\n",
        "from sklearn.preprocessing import PolynomialFeatures\n",
        "# Bagging Classifier\n",
        "from sklearn.ensemble import BaggingClassifier\n",
        "# Random Forest Classifier\n",
        "from sklearn.ensemble import RandomForestClassifier\n",
        "# Recursive Feature Elimination\n",
        "from sklearn.feature_selection import RFE"
      ]
    },
    {
      "cell_type": "markdown",
      "metadata": {},
      "source": [
        "This function is to plot the confusion matrix.\n"
      ]
    },
    {
      "cell_type": "code",
      "execution_count": 2,
      "metadata": {
        "trusted": true
      },
      "outputs": [],
      "source": [
        "def plot_confusion_matrix(y,y_predict):\n",
        "    \"this function plots the confusion matrix\"\n",
        "    from sklearn.metrics import confusion_matrix\n",
        "\n",
        "    cm = confusion_matrix(y, y_predict)\n",
        "    ax= plt.subplot()\n",
        "    sns.heatmap(cm, annot=True, ax = ax); #annot=True to annotate cells\n",
        "    ax.set_xlabel('Predicted labels')\n",
        "    ax.set_ylabel('True labels')\n",
        "    ax.set_title('Confusion Matrix'); \n",
        "    ax.xaxis.set_ticklabels(['did not land', 'land']); ax.yaxis.set_ticklabels(['did not land', 'landed']) \n",
        "    plt.show() "
      ]
    },
    {
      "cell_type": "markdown",
      "metadata": {},
      "source": [
        "## Load the dataframe\n"
      ]
    },
    {
      "cell_type": "code",
      "execution_count": 3,
      "metadata": {
        "trusted": true
      },
      "outputs": [],
      "source": [
        "import requests\n",
        "import io\n",
        "import pandas as pd\n",
        "\n",
        "URL1 = \"https://cf-courses-data.s3.us.cloud-object-storage.appdomain.cloud/IBM-DS0321EN-SkillsNetwork/datasets/dataset_part_2.csv\"\n",
        "response = requests.get(URL1)\n",
        "text1 = io.StringIO(response.text)\n",
        "data = pd.read_csv(text1)"
      ]
    },
    {
      "cell_type": "code",
      "execution_count": 4,
      "metadata": {
        "trusted": true
      },
      "outputs": [
        {
          "data": {
            "text/html": [
              "<div>\n",
              "<style scoped>\n",
              "    .dataframe tbody tr th:only-of-type {\n",
              "        vertical-align: middle;\n",
              "    }\n",
              "\n",
              "    .dataframe tbody tr th {\n",
              "        vertical-align: top;\n",
              "    }\n",
              "\n",
              "    .dataframe thead th {\n",
              "        text-align: right;\n",
              "    }\n",
              "</style>\n",
              "<table border=\"1\" class=\"dataframe\">\n",
              "  <thead>\n",
              "    <tr style=\"text-align: right;\">\n",
              "      <th></th>\n",
              "      <th>FlightNumber</th>\n",
              "      <th>Date</th>\n",
              "      <th>BoosterVersion</th>\n",
              "      <th>PayloadMass</th>\n",
              "      <th>Orbit</th>\n",
              "      <th>LaunchSite</th>\n",
              "      <th>Outcome</th>\n",
              "      <th>Flights</th>\n",
              "      <th>GridFins</th>\n",
              "      <th>Reused</th>\n",
              "      <th>Legs</th>\n",
              "      <th>LandingPad</th>\n",
              "      <th>Block</th>\n",
              "      <th>ReusedCount</th>\n",
              "      <th>Serial</th>\n",
              "      <th>Longitude</th>\n",
              "      <th>Latitude</th>\n",
              "      <th>Class</th>\n",
              "    </tr>\n",
              "  </thead>\n",
              "  <tbody>\n",
              "    <tr>\n",
              "      <th>0</th>\n",
              "      <td>1</td>\n",
              "      <td>2010-06-04</td>\n",
              "      <td>Falcon 9</td>\n",
              "      <td>6104.959412</td>\n",
              "      <td>LEO</td>\n",
              "      <td>CCAFS SLC 40</td>\n",
              "      <td>None None</td>\n",
              "      <td>1</td>\n",
              "      <td>False</td>\n",
              "      <td>False</td>\n",
              "      <td>False</td>\n",
              "      <td>NaN</td>\n",
              "      <td>1.0</td>\n",
              "      <td>0</td>\n",
              "      <td>B0003</td>\n",
              "      <td>-80.577366</td>\n",
              "      <td>28.561857</td>\n",
              "      <td>0</td>\n",
              "    </tr>\n",
              "    <tr>\n",
              "      <th>1</th>\n",
              "      <td>2</td>\n",
              "      <td>2012-05-22</td>\n",
              "      <td>Falcon 9</td>\n",
              "      <td>525.000000</td>\n",
              "      <td>LEO</td>\n",
              "      <td>CCAFS SLC 40</td>\n",
              "      <td>None None</td>\n",
              "      <td>1</td>\n",
              "      <td>False</td>\n",
              "      <td>False</td>\n",
              "      <td>False</td>\n",
              "      <td>NaN</td>\n",
              "      <td>1.0</td>\n",
              "      <td>0</td>\n",
              "      <td>B0005</td>\n",
              "      <td>-80.577366</td>\n",
              "      <td>28.561857</td>\n",
              "      <td>0</td>\n",
              "    </tr>\n",
              "    <tr>\n",
              "      <th>2</th>\n",
              "      <td>3</td>\n",
              "      <td>2013-03-01</td>\n",
              "      <td>Falcon 9</td>\n",
              "      <td>677.000000</td>\n",
              "      <td>ISS</td>\n",
              "      <td>CCAFS SLC 40</td>\n",
              "      <td>None None</td>\n",
              "      <td>1</td>\n",
              "      <td>False</td>\n",
              "      <td>False</td>\n",
              "      <td>False</td>\n",
              "      <td>NaN</td>\n",
              "      <td>1.0</td>\n",
              "      <td>0</td>\n",
              "      <td>B0007</td>\n",
              "      <td>-80.577366</td>\n",
              "      <td>28.561857</td>\n",
              "      <td>0</td>\n",
              "    </tr>\n",
              "    <tr>\n",
              "      <th>3</th>\n",
              "      <td>4</td>\n",
              "      <td>2013-09-29</td>\n",
              "      <td>Falcon 9</td>\n",
              "      <td>500.000000</td>\n",
              "      <td>PO</td>\n",
              "      <td>VAFB SLC 4E</td>\n",
              "      <td>False Ocean</td>\n",
              "      <td>1</td>\n",
              "      <td>False</td>\n",
              "      <td>False</td>\n",
              "      <td>False</td>\n",
              "      <td>NaN</td>\n",
              "      <td>1.0</td>\n",
              "      <td>0</td>\n",
              "      <td>B1003</td>\n",
              "      <td>-120.610829</td>\n",
              "      <td>34.632093</td>\n",
              "      <td>0</td>\n",
              "    </tr>\n",
              "    <tr>\n",
              "      <th>4</th>\n",
              "      <td>5</td>\n",
              "      <td>2013-12-03</td>\n",
              "      <td>Falcon 9</td>\n",
              "      <td>3170.000000</td>\n",
              "      <td>GTO</td>\n",
              "      <td>CCAFS SLC 40</td>\n",
              "      <td>None None</td>\n",
              "      <td>1</td>\n",
              "      <td>False</td>\n",
              "      <td>False</td>\n",
              "      <td>False</td>\n",
              "      <td>NaN</td>\n",
              "      <td>1.0</td>\n",
              "      <td>0</td>\n",
              "      <td>B1004</td>\n",
              "      <td>-80.577366</td>\n",
              "      <td>28.561857</td>\n",
              "      <td>0</td>\n",
              "    </tr>\n",
              "  </tbody>\n",
              "</table>\n",
              "</div>"
            ],
            "text/plain": [
              "   FlightNumber        Date BoosterVersion  PayloadMass Orbit    LaunchSite  \\\n",
              "0             1  2010-06-04       Falcon 9  6104.959412   LEO  CCAFS SLC 40   \n",
              "1             2  2012-05-22       Falcon 9   525.000000   LEO  CCAFS SLC 40   \n",
              "2             3  2013-03-01       Falcon 9   677.000000   ISS  CCAFS SLC 40   \n",
              "3             4  2013-09-29       Falcon 9   500.000000    PO   VAFB SLC 4E   \n",
              "4             5  2013-12-03       Falcon 9  3170.000000   GTO  CCAFS SLC 40   \n",
              "\n",
              "       Outcome  Flights  GridFins  Reused   Legs LandingPad  Block  \\\n",
              "0    None None        1     False   False  False        NaN    1.0   \n",
              "1    None None        1     False   False  False        NaN    1.0   \n",
              "2    None None        1     False   False  False        NaN    1.0   \n",
              "3  False Ocean        1     False   False  False        NaN    1.0   \n",
              "4    None None        1     False   False  False        NaN    1.0   \n",
              "\n",
              "   ReusedCount Serial   Longitude   Latitude  Class  \n",
              "0            0  B0003  -80.577366  28.561857      0  \n",
              "1            0  B0005  -80.577366  28.561857      0  \n",
              "2            0  B0007  -80.577366  28.561857      0  \n",
              "3            0  B1003 -120.610829  34.632093      0  \n",
              "4            0  B1004  -80.577366  28.561857      0  "
            ]
          },
          "execution_count": 4,
          "metadata": {},
          "output_type": "execute_result"
        }
      ],
      "source": [
        "data.head()"
      ]
    },
    {
      "cell_type": "markdown",
      "metadata": {},
      "source": [
        "We'll load a dataframe with the encoded data so it's more suitable for feeding into a predictive model."
      ]
    },
    {
      "cell_type": "code",
      "execution_count": 5,
      "metadata": {
        "trusted": true
      },
      "outputs": [],
      "source": [
        "URL2 = 'https://cf-courses-data.s3.us.cloud-object-storage.appdomain.cloud/IBM-DS0321EN-SkillsNetwork/datasets/dataset_part_3.csv'\n",
        "resp2 = requests.get(URL2)\n",
        "text2 = io.StringIO(resp2.text)\n",
        "X = pd.read_csv(text2)"
      ]
    },
    {
      "cell_type": "code",
      "execution_count": 6,
      "metadata": {
        "trusted": true
      },
      "outputs": [
        {
          "data": {
            "text/html": [
              "<div>\n",
              "<style scoped>\n",
              "    .dataframe tbody tr th:only-of-type {\n",
              "        vertical-align: middle;\n",
              "    }\n",
              "\n",
              "    .dataframe tbody tr th {\n",
              "        vertical-align: top;\n",
              "    }\n",
              "\n",
              "    .dataframe thead th {\n",
              "        text-align: right;\n",
              "    }\n",
              "</style>\n",
              "<table border=\"1\" class=\"dataframe\">\n",
              "  <thead>\n",
              "    <tr style=\"text-align: right;\">\n",
              "      <th></th>\n",
              "      <th>FlightNumber</th>\n",
              "      <th>PayloadMass</th>\n",
              "      <th>Flights</th>\n",
              "      <th>Block</th>\n",
              "      <th>ReusedCount</th>\n",
              "      <th>Orbit_ES-L1</th>\n",
              "      <th>Orbit_GEO</th>\n",
              "      <th>Orbit_GTO</th>\n",
              "      <th>Orbit_HEO</th>\n",
              "      <th>Orbit_ISS</th>\n",
              "      <th>...</th>\n",
              "      <th>Serial_B1058</th>\n",
              "      <th>Serial_B1059</th>\n",
              "      <th>Serial_B1060</th>\n",
              "      <th>Serial_B1062</th>\n",
              "      <th>GridFins_False</th>\n",
              "      <th>GridFins_True</th>\n",
              "      <th>Reused_False</th>\n",
              "      <th>Reused_True</th>\n",
              "      <th>Legs_False</th>\n",
              "      <th>Legs_True</th>\n",
              "    </tr>\n",
              "  </thead>\n",
              "  <tbody>\n",
              "    <tr>\n",
              "      <th>0</th>\n",
              "      <td>1.0</td>\n",
              "      <td>6104.959412</td>\n",
              "      <td>1.0</td>\n",
              "      <td>1.0</td>\n",
              "      <td>0.0</td>\n",
              "      <td>0.0</td>\n",
              "      <td>0.0</td>\n",
              "      <td>0.0</td>\n",
              "      <td>0.0</td>\n",
              "      <td>0.0</td>\n",
              "      <td>...</td>\n",
              "      <td>0.0</td>\n",
              "      <td>0.0</td>\n",
              "      <td>0.0</td>\n",
              "      <td>0.0</td>\n",
              "      <td>1.0</td>\n",
              "      <td>0.0</td>\n",
              "      <td>1.0</td>\n",
              "      <td>0.0</td>\n",
              "      <td>1.0</td>\n",
              "      <td>0.0</td>\n",
              "    </tr>\n",
              "    <tr>\n",
              "      <th>1</th>\n",
              "      <td>2.0</td>\n",
              "      <td>525.000000</td>\n",
              "      <td>1.0</td>\n",
              "      <td>1.0</td>\n",
              "      <td>0.0</td>\n",
              "      <td>0.0</td>\n",
              "      <td>0.0</td>\n",
              "      <td>0.0</td>\n",
              "      <td>0.0</td>\n",
              "      <td>0.0</td>\n",
              "      <td>...</td>\n",
              "      <td>0.0</td>\n",
              "      <td>0.0</td>\n",
              "      <td>0.0</td>\n",
              "      <td>0.0</td>\n",
              "      <td>1.0</td>\n",
              "      <td>0.0</td>\n",
              "      <td>1.0</td>\n",
              "      <td>0.0</td>\n",
              "      <td>1.0</td>\n",
              "      <td>0.0</td>\n",
              "    </tr>\n",
              "    <tr>\n",
              "      <th>2</th>\n",
              "      <td>3.0</td>\n",
              "      <td>677.000000</td>\n",
              "      <td>1.0</td>\n",
              "      <td>1.0</td>\n",
              "      <td>0.0</td>\n",
              "      <td>0.0</td>\n",
              "      <td>0.0</td>\n",
              "      <td>0.0</td>\n",
              "      <td>0.0</td>\n",
              "      <td>1.0</td>\n",
              "      <td>...</td>\n",
              "      <td>0.0</td>\n",
              "      <td>0.0</td>\n",
              "      <td>0.0</td>\n",
              "      <td>0.0</td>\n",
              "      <td>1.0</td>\n",
              "      <td>0.0</td>\n",
              "      <td>1.0</td>\n",
              "      <td>0.0</td>\n",
              "      <td>1.0</td>\n",
              "      <td>0.0</td>\n",
              "    </tr>\n",
              "    <tr>\n",
              "      <th>3</th>\n",
              "      <td>4.0</td>\n",
              "      <td>500.000000</td>\n",
              "      <td>1.0</td>\n",
              "      <td>1.0</td>\n",
              "      <td>0.0</td>\n",
              "      <td>0.0</td>\n",
              "      <td>0.0</td>\n",
              "      <td>0.0</td>\n",
              "      <td>0.0</td>\n",
              "      <td>0.0</td>\n",
              "      <td>...</td>\n",
              "      <td>0.0</td>\n",
              "      <td>0.0</td>\n",
              "      <td>0.0</td>\n",
              "      <td>0.0</td>\n",
              "      <td>1.0</td>\n",
              "      <td>0.0</td>\n",
              "      <td>1.0</td>\n",
              "      <td>0.0</td>\n",
              "      <td>1.0</td>\n",
              "      <td>0.0</td>\n",
              "    </tr>\n",
              "    <tr>\n",
              "      <th>4</th>\n",
              "      <td>5.0</td>\n",
              "      <td>3170.000000</td>\n",
              "      <td>1.0</td>\n",
              "      <td>1.0</td>\n",
              "      <td>0.0</td>\n",
              "      <td>0.0</td>\n",
              "      <td>0.0</td>\n",
              "      <td>1.0</td>\n",
              "      <td>0.0</td>\n",
              "      <td>0.0</td>\n",
              "      <td>...</td>\n",
              "      <td>0.0</td>\n",
              "      <td>0.0</td>\n",
              "      <td>0.0</td>\n",
              "      <td>0.0</td>\n",
              "      <td>1.0</td>\n",
              "      <td>0.0</td>\n",
              "      <td>1.0</td>\n",
              "      <td>0.0</td>\n",
              "      <td>1.0</td>\n",
              "      <td>0.0</td>\n",
              "    </tr>\n",
              "    <tr>\n",
              "      <th>...</th>\n",
              "      <td>...</td>\n",
              "      <td>...</td>\n",
              "      <td>...</td>\n",
              "      <td>...</td>\n",
              "      <td>...</td>\n",
              "      <td>...</td>\n",
              "      <td>...</td>\n",
              "      <td>...</td>\n",
              "      <td>...</td>\n",
              "      <td>...</td>\n",
              "      <td>...</td>\n",
              "      <td>...</td>\n",
              "      <td>...</td>\n",
              "      <td>...</td>\n",
              "      <td>...</td>\n",
              "      <td>...</td>\n",
              "      <td>...</td>\n",
              "      <td>...</td>\n",
              "      <td>...</td>\n",
              "      <td>...</td>\n",
              "      <td>...</td>\n",
              "    </tr>\n",
              "    <tr>\n",
              "      <th>85</th>\n",
              "      <td>86.0</td>\n",
              "      <td>15400.000000</td>\n",
              "      <td>2.0</td>\n",
              "      <td>5.0</td>\n",
              "      <td>2.0</td>\n",
              "      <td>0.0</td>\n",
              "      <td>0.0</td>\n",
              "      <td>0.0</td>\n",
              "      <td>0.0</td>\n",
              "      <td>0.0</td>\n",
              "      <td>...</td>\n",
              "      <td>0.0</td>\n",
              "      <td>0.0</td>\n",
              "      <td>1.0</td>\n",
              "      <td>0.0</td>\n",
              "      <td>0.0</td>\n",
              "      <td>1.0</td>\n",
              "      <td>0.0</td>\n",
              "      <td>1.0</td>\n",
              "      <td>0.0</td>\n",
              "      <td>1.0</td>\n",
              "    </tr>\n",
              "    <tr>\n",
              "      <th>86</th>\n",
              "      <td>87.0</td>\n",
              "      <td>15400.000000</td>\n",
              "      <td>3.0</td>\n",
              "      <td>5.0</td>\n",
              "      <td>2.0</td>\n",
              "      <td>0.0</td>\n",
              "      <td>0.0</td>\n",
              "      <td>0.0</td>\n",
              "      <td>0.0</td>\n",
              "      <td>0.0</td>\n",
              "      <td>...</td>\n",
              "      <td>1.0</td>\n",
              "      <td>0.0</td>\n",
              "      <td>0.0</td>\n",
              "      <td>0.0</td>\n",
              "      <td>0.0</td>\n",
              "      <td>1.0</td>\n",
              "      <td>0.0</td>\n",
              "      <td>1.0</td>\n",
              "      <td>0.0</td>\n",
              "      <td>1.0</td>\n",
              "    </tr>\n",
              "    <tr>\n",
              "      <th>87</th>\n",
              "      <td>88.0</td>\n",
              "      <td>15400.000000</td>\n",
              "      <td>6.0</td>\n",
              "      <td>5.0</td>\n",
              "      <td>5.0</td>\n",
              "      <td>0.0</td>\n",
              "      <td>0.0</td>\n",
              "      <td>0.0</td>\n",
              "      <td>0.0</td>\n",
              "      <td>0.0</td>\n",
              "      <td>...</td>\n",
              "      <td>0.0</td>\n",
              "      <td>0.0</td>\n",
              "      <td>0.0</td>\n",
              "      <td>0.0</td>\n",
              "      <td>0.0</td>\n",
              "      <td>1.0</td>\n",
              "      <td>0.0</td>\n",
              "      <td>1.0</td>\n",
              "      <td>0.0</td>\n",
              "      <td>1.0</td>\n",
              "    </tr>\n",
              "    <tr>\n",
              "      <th>88</th>\n",
              "      <td>89.0</td>\n",
              "      <td>15400.000000</td>\n",
              "      <td>3.0</td>\n",
              "      <td>5.0</td>\n",
              "      <td>2.0</td>\n",
              "      <td>0.0</td>\n",
              "      <td>0.0</td>\n",
              "      <td>0.0</td>\n",
              "      <td>0.0</td>\n",
              "      <td>0.0</td>\n",
              "      <td>...</td>\n",
              "      <td>0.0</td>\n",
              "      <td>0.0</td>\n",
              "      <td>1.0</td>\n",
              "      <td>0.0</td>\n",
              "      <td>0.0</td>\n",
              "      <td>1.0</td>\n",
              "      <td>0.0</td>\n",
              "      <td>1.0</td>\n",
              "      <td>0.0</td>\n",
              "      <td>1.0</td>\n",
              "    </tr>\n",
              "    <tr>\n",
              "      <th>89</th>\n",
              "      <td>90.0</td>\n",
              "      <td>3681.000000</td>\n",
              "      <td>1.0</td>\n",
              "      <td>5.0</td>\n",
              "      <td>0.0</td>\n",
              "      <td>0.0</td>\n",
              "      <td>0.0</td>\n",
              "      <td>0.0</td>\n",
              "      <td>0.0</td>\n",
              "      <td>0.0</td>\n",
              "      <td>...</td>\n",
              "      <td>0.0</td>\n",
              "      <td>0.0</td>\n",
              "      <td>0.0</td>\n",
              "      <td>1.0</td>\n",
              "      <td>0.0</td>\n",
              "      <td>1.0</td>\n",
              "      <td>1.0</td>\n",
              "      <td>0.0</td>\n",
              "      <td>0.0</td>\n",
              "      <td>1.0</td>\n",
              "    </tr>\n",
              "  </tbody>\n",
              "</table>\n",
              "<p>90 rows × 83 columns</p>\n",
              "</div>"
            ],
            "text/plain": [
              "    FlightNumber   PayloadMass  Flights  Block  ReusedCount  Orbit_ES-L1  \\\n",
              "0            1.0   6104.959412      1.0    1.0          0.0          0.0   \n",
              "1            2.0    525.000000      1.0    1.0          0.0          0.0   \n",
              "2            3.0    677.000000      1.0    1.0          0.0          0.0   \n",
              "3            4.0    500.000000      1.0    1.0          0.0          0.0   \n",
              "4            5.0   3170.000000      1.0    1.0          0.0          0.0   \n",
              "..           ...           ...      ...    ...          ...          ...   \n",
              "85          86.0  15400.000000      2.0    5.0          2.0          0.0   \n",
              "86          87.0  15400.000000      3.0    5.0          2.0          0.0   \n",
              "87          88.0  15400.000000      6.0    5.0          5.0          0.0   \n",
              "88          89.0  15400.000000      3.0    5.0          2.0          0.0   \n",
              "89          90.0   3681.000000      1.0    5.0          0.0          0.0   \n",
              "\n",
              "    Orbit_GEO  Orbit_GTO  Orbit_HEO  Orbit_ISS  ...  Serial_B1058  \\\n",
              "0         0.0        0.0        0.0        0.0  ...           0.0   \n",
              "1         0.0        0.0        0.0        0.0  ...           0.0   \n",
              "2         0.0        0.0        0.0        1.0  ...           0.0   \n",
              "3         0.0        0.0        0.0        0.0  ...           0.0   \n",
              "4         0.0        1.0        0.0        0.0  ...           0.0   \n",
              "..        ...        ...        ...        ...  ...           ...   \n",
              "85        0.0        0.0        0.0        0.0  ...           0.0   \n",
              "86        0.0        0.0        0.0        0.0  ...           1.0   \n",
              "87        0.0        0.0        0.0        0.0  ...           0.0   \n",
              "88        0.0        0.0        0.0        0.0  ...           0.0   \n",
              "89        0.0        0.0        0.0        0.0  ...           0.0   \n",
              "\n",
              "    Serial_B1059  Serial_B1060  Serial_B1062  GridFins_False  GridFins_True  \\\n",
              "0            0.0           0.0           0.0             1.0            0.0   \n",
              "1            0.0           0.0           0.0             1.0            0.0   \n",
              "2            0.0           0.0           0.0             1.0            0.0   \n",
              "3            0.0           0.0           0.0             1.0            0.0   \n",
              "4            0.0           0.0           0.0             1.0            0.0   \n",
              "..           ...           ...           ...             ...            ...   \n",
              "85           0.0           1.0           0.0             0.0            1.0   \n",
              "86           0.0           0.0           0.0             0.0            1.0   \n",
              "87           0.0           0.0           0.0             0.0            1.0   \n",
              "88           0.0           1.0           0.0             0.0            1.0   \n",
              "89           0.0           0.0           1.0             0.0            1.0   \n",
              "\n",
              "    Reused_False  Reused_True  Legs_False  Legs_True  \n",
              "0            1.0          0.0         1.0        0.0  \n",
              "1            1.0          0.0         1.0        0.0  \n",
              "2            1.0          0.0         1.0        0.0  \n",
              "3            1.0          0.0         1.0        0.0  \n",
              "4            1.0          0.0         1.0        0.0  \n",
              "..           ...          ...         ...        ...  \n",
              "85           0.0          1.0         0.0        1.0  \n",
              "86           0.0          1.0         0.0        1.0  \n",
              "87           0.0          1.0         0.0        1.0  \n",
              "88           0.0          1.0         0.0        1.0  \n",
              "89           1.0          0.0         0.0        1.0  \n",
              "\n",
              "[90 rows x 83 columns]"
            ]
          },
          "execution_count": 6,
          "metadata": {},
          "output_type": "execute_result"
        }
      ],
      "source": [
        "X.head(100)"
      ]
    },
    {
      "cell_type": "markdown",
      "metadata": {},
      "source": [
        "Create a NumPy array from the column <code>Class</code> in <code>data</code>, by applying the method <code>to_numpy()</code>  then\n",
        "assign it  to the variable <code>Y</code>,make sure the output is a  Pandas series (only one bracket df\\['name of  column']).\n"
      ]
    },
    {
      "cell_type": "code",
      "execution_count": 7,
      "metadata": {
        "trusted": true
      },
      "outputs": [],
      "source": [
        "Y = data['Class'].to_numpy()"
      ]
    },
    {
      "cell_type": "markdown",
      "metadata": {},
      "source": [
        "Standardize the data in <code>X</code> then reassign it to the variable  <code>X</code> using the transform provided below.\n"
      ]
    },
    {
      "cell_type": "code",
      "execution_count": 8,
      "metadata": {
        "trusted": true
      },
      "outputs": [],
      "source": [
        "# Standarizing the data\n",
        "transform = preprocessing.StandardScaler()\n",
        "\n",
        "# Fit the scaler to the data and transform it\n",
        "X_standardized = transform.fit_transform(X)"
      ]
    },
    {
      "cell_type": "markdown",
      "metadata": {},
      "source": [
        "We split the data into training and testing data using the  function  <code>train_test_split</code>.   The training data is divided into validation data, a second set used for training  data; then the models are trained and hyperparameters are selected using the function <code>GridSearchCV</code>.\n"
      ]
    },
    {
      "cell_type": "code",
      "execution_count": 9,
      "metadata": {
        "trusted": true
      },
      "outputs": [],
      "source": [
        "X_train, X_test, Y_train, Y_test = train_test_split(X_standardized, Y, test_size=0.2, random_state=2)"
      ]
    },
    {
      "cell_type": "markdown",
      "metadata": {},
      "source": [
        "We can see we only have 18 test samples.\n"
      ]
    },
    {
      "cell_type": "code",
      "execution_count": 10,
      "metadata": {
        "trusted": true
      },
      "outputs": [
        {
          "data": {
            "text/plain": [
              "(18,)"
            ]
          },
          "execution_count": 10,
          "metadata": {},
          "output_type": "execute_result"
        }
      ],
      "source": [
        "Y_test.shape"
      ]
    },
    {
      "cell_type": "markdown",
      "metadata": {},
      "source": [
        "## Logistic Regression\n"
      ]
    },
    {
      "cell_type": "markdown",
      "metadata": {},
      "source": [
        "Logistic Regression is a linear model commonly used for binary classification tasks. We use GridSearchCV to find the best hyperparameters for our Logistic Regression model.\n",
        "\n",
        "In the next cell, we perform the following steps:\n",
        "1. Define hyperparameters for tuning the Logistic Regression model.\n",
        "2. Create a Logistic Regression model.\n",
        "3. Use GridSearchCV to find the best hyperparameters based on 10-fold cross-validation.\n",
        "4. Fit the model on the training data.\n",
        "5. Store the best hyperparameters and the best accuracy score in the `results` dictionary.\n",
        "6. Calculate the accuracy on the test data.\n",
        "7. Evaluate the model using a classification report.\n"
      ]
    },
    {
      "cell_type": "code",
      "execution_count": 11,
      "metadata": {
        "trusted": true
      },
      "outputs": [
        {
          "name": "stdout",
          "output_type": "stream",
          "text": [
            "Tuned hyperparameters (best parameters): {'C': 0.1, 'penalty': 'l1', 'solver': 'saga'}\n",
            "Accuracy (train): 0.8611111111111112\n",
            "Accuracy (test): 0.8333333333333334\n",
            "              precision    recall  f1-score   support\n",
            "\n",
            "           0       1.00      0.50      0.67         6\n",
            "           1       0.80      1.00      0.89        12\n",
            "\n",
            "    accuracy                           0.83        18\n",
            "   macro avg       0.90      0.75      0.78        18\n",
            "weighted avg       0.87      0.83      0.81        18\n",
            "\n"
          ]
        }
      ],
      "source": [
        "# Parameters for Logistic Regression\n",
        "logreg_parameters = [\n",
        "    {'C': [0.01, 0.1, 1, 10], 'penalty': ['l2'], 'solver': ['lbfgs']},\n",
        "    {'C': [0.01, 0.1, 1, 10], 'penalty': ['l1', 'l2'], 'solver': ['liblinear', 'saga']}\n",
        "]\n",
        "\n",
        "# Create a logistic regression object\n",
        "logreg = LogisticRegression(max_iter=5000)\n",
        "\n",
        "# Create GridSearchCV object\n",
        "logreg_cv = GridSearchCV(logreg, logreg_parameters, cv=10, scoring='accuracy')\n",
        "\n",
        "# Fit the GridSearchCV object to find the best parameters\n",
        "logreg_cv.fit(X_train, Y_train)\n",
        "\n",
        "# Store the best model\n",
        "best_model_logreg = logreg_cv.best_estimator_\n",
        "\n",
        "# Make predictions\n",
        "yhat_logreg = logreg_cv.predict(X_test)\n",
        "\n",
        "# Calculate accuracy on the test data\n",
        "accuracy_test_logreg = best_model_logreg.score(X_test, Y_test)\n",
        "\n",
        "# Calculate accuracy on the training data\n",
        "accuracy_train_logreg = best_model_logreg.score(X_train, Y_train)\n",
        "\n",
        "# Dictionary to store results\n",
        "results = {}\n",
        "\n",
        "# Store the results\n",
        "results['LogisticRegression'] = {\n",
        "    'best_params': logreg_cv.best_params_,\n",
        "    'best_score': logreg_cv.best_score_,\n",
        "    'train_accuracy': accuracy_train_logreg,\n",
        "    'test_accuracy': accuracy_test_logreg\n",
        "}\n",
        "\n",
        "# Print results\n",
        "print(\"Tuned hyperparameters (best parameters):\", logreg_cv.best_params_)\n",
        "print(\"Accuracy (train):\", accuracy_train_logreg)\n",
        "print(\"Accuracy (test):\", accuracy_test_logreg)\n",
        "\n",
        "# Evaluate the model\n",
        "print(classification_report(Y_test, yhat_logreg))\n"
      ]
    },
    {
      "cell_type": "markdown",
      "metadata": {},
      "source": [
        "Let's look at the confusion matrix:\n"
      ]
    },
    {
      "cell_type": "code",
      "execution_count": 12,
      "metadata": {},
      "outputs": [
        {
          "data": {
            "image/png": "[encoded data removed]",
            "text/plain": [
              "<Figure size 640x480 with 2 Axes>"
            ]
          },
          "metadata": {},
          "output_type": "display_data"
        },
        {
          "name": "stdout",
          "output_type": "stream",
          "text": [
            "Accuracy (test): 0.8333333333333334\n"
          ]
        }
      ],
      "source": [
        "plot_confusion_matrix(Y_test,yhat_logreg)\n",
        "print(\"Accuracy (test):\", accuracy_test_logreg)"
      ]
    },
    {
      "cell_type": "markdown",
      "metadata": {},
      "source": [
        "Examining the confusion matrix, we see that logistic regression can distinguish between the different classes.  We see that the major problem is false positives."
      ]
    },
    {
      "cell_type": "markdown",
      "metadata": {},
      "source": [
        "### Logistic Regression with Reduced Features\n",
        "\n",
        "To improve the performance of our Logistic Regression model, we reduce the feature set based on feature importance analysis. We then use GridSearchCV to find the best hyperparameters for our Logistic Regression model on the reduced feature set.\n",
        "\n",
        "To achieve this, we'll take the following steps:\n",
        "1. Identify and drop unimportant features based on a threshold.\n",
        "2. Standardize the reduced feature set.\n",
        "3. Split the data into training and testing sets with reduced features.\n",
        "4. Define and train the Logistic Regression model using GridSearchCV.\n",
        "5. Evaluate the best model with reduced features.\n",
        "6. Analyze the feature importance again after dropping unimportant features."
      ]
    },
    {
      "cell_type": "code",
      "execution_count": 34,
      "metadata": {},
      "outputs": [
        {
          "name": "stdout",
          "output_type": "stream",
          "text": [
            "Feature Importance:\n",
            "           Feature  Coefficient\n",
            "82       Legs_True     0.353207\n",
            "81      Legs_False    -0.353207\n",
            "78   GridFins_True     0.046044\n",
            "77  GridFins_False    -0.046044\n",
            "4      ReusedCount     0.027678\n",
            "..             ...          ...\n",
            "27    Serial_B1003     0.000000\n",
            "26    Serial_B0007     0.000000\n",
            "25    Serial_B0005     0.000000\n",
            "24    Serial_B0003     0.000000\n",
            "41    Serial_B1019     0.000000\n",
            "\n",
            "[83 rows x 2 columns]\n"
          ]
        }
      ],
      "source": [
        "# Feature Importance Analysis\n",
        "# Extract the coefficients from the best model\n",
        "feature_names = X.columns\n",
        "coefficients = best_model_logreg.coef_[0]\n",
        "\n",
        "# Create a DataFrame for feature importance\n",
        "feature_importance = pd.DataFrame({\n",
        "    'Feature': feature_names,\n",
        "    'Coefficient': coefficients\n",
        "})\n",
        "\n",
        "# Sort by absolute value of coefficients\n",
        "feature_importance['AbsCoefficient'] = np.abs(feature_importance['Coefficient'])\n",
        "feature_importance = feature_importance.sort_values(by='AbsCoefficient', ascending=False)\n",
        "\n",
        "# Display feature importance\n",
        "print(\"Feature Importance:\")\n",
        "print(feature_importance[['Feature', 'Coefficient']])\n",
        "\n",
        "# Export to CSV\n",
        "feature_importance.to_csv('feature_importance.csv', index=False)\n"
      ]
    },
    {
      "cell_type": "code",
      "execution_count": 14,
      "metadata": {},
      "outputs": [
        {
          "name": "stdout",
          "output_type": "stream",
          "text": [
            "Tuned hyperparameters (best parameters) with reduced features: {'C': 0.01, 'penalty': 'l2', 'solver': 'lbfgs'}\n",
            "Accuracy (train) with reduced features: 0.8472222222222222\n",
            "Accuracy (test) with reduced features: 0.9444444444444444\n",
            "              precision    recall  f1-score   support\n",
            "\n",
            "           0       1.00      0.75      0.86         4\n",
            "           1       0.93      1.00      0.97        14\n",
            "\n",
            "    accuracy                           0.94        18\n",
            "   macro avg       0.97      0.88      0.91        18\n",
            "weighted avg       0.95      0.94      0.94        18\n",
            "\n",
            "Feature Importance after Dropping Unimportant Features:\n",
            "          Feature  Coefficient\n",
            "3      Legs_False    -0.133500\n",
            "4       Legs_True     0.133500\n",
            "1  GridFins_False    -0.120220\n",
            "2   GridFins_True     0.120220\n",
            "0     ReusedCount     0.112673\n"
          ]
        }
      ],
      "source": [
        "# Identify features to drop based on a threshold\n",
        "threshold = 0.01  # Set a threshold for feature importance\n",
        "features_to_drop = feature_importance[feature_importance['AbsCoefficient'] < threshold]['Feature'].tolist()\n",
        "\n",
        "# Drop unimportant features\n",
        "X_reduced = X.drop(columns=features_to_drop)\n",
        "\n",
        "# Standardize the reduced feature set\n",
        "X_standardized_reduced = transform.fit_transform(X_reduced)\n",
        "\n",
        "# Split the data into training and testing sets with reduced features\n",
        "X_train_reduced, X_test_reduced, Y_train, Y_test = train_test_split(X_standardized_reduced, Y, test_size=0.2, random_state=42)\n",
        "\n",
        "# Train the model using GridSearchCV with the same logreg object\n",
        "logreg_red_cv = GridSearchCV(logreg, logreg_parameters, cv=10, scoring='accuracy')\n",
        "logreg_red_cv.fit(X_train_reduced, Y_train)\n",
        "\n",
        "# Store the best model\n",
        "best_model_logreg_red = logreg_red_cv.best_estimator_\n",
        "\n",
        "# Make predictions\n",
        "yhat_logreg_red = logreg_red_cv.predict(X_test_reduced)\n",
        "\n",
        "# Calculate accuracy on the test data\n",
        "accuracy_test_logreg_red = best_model_logreg_red.score(X_test_reduced, Y_test)\n",
        "\n",
        "# Calculate accuracy on the training data\n",
        "accuracy_train_logreg_red = best_model_logreg_red.score(X_train_reduced, Y_train)\n",
        "\n",
        "# Store the results\n",
        "results['LogReg_Reduced'] = {\n",
        "    'best_params': logreg_red_cv.best_params_,\n",
        "    'best_score': logreg_red_cv.best_score_,\n",
        "    'train_accuracy': accuracy_train_logreg_red,\n",
        "    'test_accuracy': accuracy_test_logreg_red\n",
        "}\n",
        "\n",
        "# Print results\n",
        "print(\"Tuned hyperparameters (best parameters) with reduced features:\", logreg_red_cv.best_params_)\n",
        "print(\"Accuracy (train) with reduced features:\", accuracy_train_logreg_red)\n",
        "print(\"Accuracy (test) with reduced features:\", accuracy_test_logreg_red)\n",
        "\n",
        "# Evaluate the model\n",
        "print(classification_report(Y_test, yhat_logreg_red))\n",
        "\n",
        "# Optional: Analyze feature importance again\n",
        "coefficients_reduced = best_model_logreg_red.coef_[0]\n",
        "feature_importance_reduced = pd.DataFrame({\n",
        "    'Feature': X_reduced.columns,\n",
        "    'Coefficient': coefficients_reduced\n",
        "})\n",
        "feature_importance_reduced['AbsCoefficient'] = np.abs(feature_importance_reduced['Coefficient'])\n",
        "feature_importance_reduced = feature_importance_reduced.sort_values(by='AbsCoefficient', ascending=False)\n",
        "\n",
        "print(\"Feature Importance after Dropping Unimportant Features:\")\n",
        "print(feature_importance_reduced[['Feature', 'Coefficient']])\n"
      ]
    },
    {
      "cell_type": "markdown",
      "metadata": {},
      "source": [
        "Let's plot a barchart to see the importance of this features"
      ]
    },
    {
      "cell_type": "code",
      "execution_count": 54,
      "metadata": {},
      "outputs": [
        {
          "data": {
            "image/png": "[encoded data removed]",
            "text/plain": [
              "<Figure size 1200x500 with 1 Axes>"
            ]
          },
          "metadata": {},
          "output_type": "display_data"
        }
      ],
      "source": [
        "# Define a custom palette for positive and negative coefficients\n",
        "custom_palette = ['#FA9750' if coef < 0 else '#0061BB' for coef in feature_importance_reduced['Coefficient']]\n",
        "\n",
        "# Create the horizontal bar chart with the custom palette\n",
        "plt.figure(figsize=(12, 5))\n",
        "sns.barplot(x='Coefficient', y='Feature', data=feature_importance_reduced, palette=custom_palette)\n",
        "\n",
        "# Add labels and title\n",
        "plt.xlabel('Coefficient')\n",
        "plt.ylabel('Feature')\n",
        "plt.title('Feature Importance (Positive and Negative Coefficients) After Dropping Unimportant Features')\n",
        "plt.show()\n"
      ]
    },
    {
      "cell_type": "markdown",
      "metadata": {},
      "source": [
        "The test accuracy improved! Now let's plot a new confusion matrix"
      ]
    },
    {
      "cell_type": "code",
      "execution_count": 15,
      "metadata": {
        "trusted": true
      },
      "outputs": [
        {
          "data": {
            "image/png": "[encoded data removed]",
            "text/plain": [
              "<Figure size 640x480 with 2 Axes>"
            ]
          },
          "metadata": {},
          "output_type": "display_data"
        },
        {
          "name": "stdout",
          "output_type": "stream",
          "text": [
            "Accuracy (test): 0.9444444444444444\n"
          ]
        }
      ],
      "source": [
        "plot_confusion_matrix(Y_test,yhat_logreg_red)\n",
        "print(\"Accuracy (test):\", accuracy_test_logreg_red)"
      ]
    },
    {
      "cell_type": "markdown",
      "metadata": {},
      "source": [
        "## Support Vector Machine\n"
      ]
    },
    {
      "cell_type": "markdown",
      "metadata": {},
      "source": [
        "Support Vector Machines (SVM) are powerful classifiers that work well on a wide range of datasets. We use GridSearchCV to find the best hyperparameters for our SVM model.\n",
        "\n",
        "In this section, we perform the following steps:\n",
        "1. Define the parameter grid for the SVM model.\n",
        "2. Create an SVM model.\n",
        "3. Use GridSearchCV to find the best hyperparameters based on 10-fold cross-validation.\n",
        "4. Fit the model on the training data.\n",
        "5. Store the best hyperparameters, training accuracy, and test accuracy.\n",
        "6. Evaluate the model using a classification report."
      ]
    },
    {
      "cell_type": "code",
      "execution_count": 16,
      "metadata": {
        "trusted": true
      },
      "outputs": [
        {
          "name": "stdout",
          "output_type": "stream",
          "text": [
            "Tuned hyperparameters (best parameters): {'C': 31.622776601683793, 'gamma': 0.03162277660168379, 'kernel': 'rbf'}\n",
            "Accuracy (train): 1.0\n",
            "Accuracy (test): 0.7777777777777778\n",
            "              precision    recall  f1-score   support\n",
            "\n",
            "           0       0.50      0.25      0.33         4\n",
            "           1       0.81      0.93      0.87        14\n",
            "\n",
            "    accuracy                           0.78        18\n",
            "   macro avg       0.66      0.59      0.60        18\n",
            "weighted avg       0.74      0.78      0.75        18\n",
            "\n"
          ]
        }
      ],
      "source": [
        "# Define the parameter grid\n",
        "svm_parameters = {\n",
        "    'kernel': ['linear', 'rbf', 'poly', 'sigmoid'],\n",
        "    'C': np.logspace(-3, 3, 5),\n",
        "    'gamma': np.logspace(-3, 3, 5)\n",
        "}\n",
        "\n",
        "# Create an SVM object\n",
        "svm = SVC()\n",
        "\n",
        "# Create a GridSearchCV object\n",
        "svm_cv = GridSearchCV(svm, svm_parameters, cv=10)\n",
        "\n",
        "# Fit the GridSearchCV object to find the best parameters\n",
        "svm_cv.fit(X_train, Y_train)\n",
        "\n",
        "# Store the best model\n",
        "best_model_svm = svm_cv.best_estimator_\n",
        "\n",
        "# Make predictions\n",
        "yhat_svm = svm_cv.predict(X_test)\n",
        "\n",
        "# Calculate accuracy on the test data\n",
        "accuracy_test_svm = best_model_svm.score(X_test, Y_test)\n",
        "\n",
        "# Calculate accuracy on the training data\n",
        "accuracy_train_svm = best_model_svm.score(X_train, Y_train)\n",
        "\n",
        "# Store the results\n",
        "results['SVM'] = {\n",
        "    'best_params': svm_cv.best_params_,\n",
        "    'best_score': svm_cv.best_score_,\n",
        "    'train_accuracy': accuracy_train_svm,\n",
        "    'test_accuracy': accuracy_test_svm\n",
        "}\n",
        "\n",
        "# Print results\n",
        "print(\"Tuned hyperparameters (best parameters):\", svm_cv.best_params_)\n",
        "print(\"Accuracy (train):\", accuracy_train_svm)\n",
        "print(\"Accuracy (test):\", accuracy_test_svm)\n",
        "\n",
        "# Evaluate the model\n",
        "print(classification_report(Y_test, yhat_svm))\n"
      ]
    },
    {
      "cell_type": "markdown",
      "metadata": {},
      "source": [
        "### Refined SVM Model with Grid Search\n",
        "\n",
        "To further optimize our SVM model, we perform a more granular search around the best-found parameters using GridSearchCV.\n",
        "\n",
        "In this section, we perform the following steps:\n",
        "1. Define a refined parameter grid around the best found parameters for the SVM model.\n",
        "2. Create an SVM model.\n",
        "3. Use GridSearchCV to find the best hyperparameters based on 10-fold cross-validation.\n",
        "4. Fit the model on the training data.\n",
        "5. Store the best hyperparameters, training accuracy, and test accuracy.\n",
        "6. Evaluate the model using a classification report."
      ]
    },
    {
      "cell_type": "code",
      "execution_count": 17,
      "metadata": {
        "trusted": true
      },
      "outputs": [
        {
          "name": "stdout",
          "output_type": "stream",
          "text": [
            "Tuned hyperparameters (best parameters): {'C': 0.8333333333333333, 'class_weight': 'balanced', 'gamma': 0.01, 'kernel': 'sigmoid'}\n",
            "Best cross-validated accuracy: 0.6660714285714286\n",
            "Accuracy (train): 0.9027777777777778\n",
            "Accuracy (test): 0.5555555555555556\n",
            "              precision    recall  f1-score   support\n",
            "\n",
            "           0       0.25      0.50      0.33         4\n",
            "           1       0.80      0.57      0.67        14\n",
            "\n",
            "    accuracy                           0.56        18\n",
            "   macro avg       0.53      0.54      0.50        18\n",
            "weighted avg       0.68      0.56      0.59        18\n",
            "\n"
          ]
        }
      ],
      "source": [
        "# Define a refined parameter grid around the best-found parameters\n",
        "refined_svm_parameters = {\n",
        "    'C': np.linspace(0.5, 2.0, 10),  # More granular search around C=1.0\n",
        "    'gamma': np.linspace(0.01, 0.1, 10),  # More granular search around gamma=0.031\n",
        "    'kernel': ['sigmoid'],\n",
        "    'class_weight': ['balanced']\n",
        "}\n",
        "\n",
        "# Create an SVM object\n",
        "svm = SVC()\n",
        "\n",
        "# Create a GridSearchCV object\n",
        "svm_refined_cv = GridSearchCV(svm, refined_svm_parameters, cv=10)\n",
        "\n",
        "# Fit the GridSearchCV object to find the best parameters\n",
        "svm_refined_cv.fit(X_train, Y_train)\n",
        "\n",
        "# Store the best model\n",
        "best_model_svm_refined = svm_refined_cv.best_estimator_\n",
        "\n",
        "# Make predictions\n",
        "yhat_svm_refined = svm_refined_cv.predict(X_test)\n",
        "\n",
        "# Calculate accuracy on the test data\n",
        "accuracy_test_svm_refined = best_model_svm_refined.score(X_test, Y_test)\n",
        "\n",
        "# Calculate accuracy on the training data\n",
        "accuracy_train_svm_refined = best_model_svm_refined.score(X_train, Y_train)\n",
        "\n",
        "# Store the results\n",
        "results['SVM_Refined'] = {\n",
        "    'best_params': svm_refined_cv.best_params_,\n",
        "    'best_score': svm_refined_cv.best_score_,\n",
        "    'train_accuracy': accuracy_train_svm_refined,\n",
        "    'test_accuracy': accuracy_test_svm_refined\n",
        "}\n",
        "\n",
        "# Print results\n",
        "print(\"Tuned hyperparameters (best parameters):\", svm_refined_cv.best_params_)\n",
        "print(\"Best cross-validated accuracy:\", svm_refined_cv.best_score_)\n",
        "print(\"Accuracy (train):\", accuracy_train_svm_refined)\n",
        "print(\"Accuracy (test):\", accuracy_test_svm_refined)\n",
        "\n",
        "# Evaluate the model\n",
        "print(classification_report(Y_test, yhat_svm_refined))\n"
      ]
    },
    {
      "cell_type": "markdown",
      "metadata": {},
      "source": [
        "### SVM Model with Polynomial Features and Grid Search\n",
        "\n",
        "To capture more complex relationships in the data, we generate polynomial features and use GridSearchCV to find the best hyperparameters for our SVM model on the polynomial features.\n",
        "\n",
        "In this section, we perform the following steps:\n",
        "1. Generate polynomial features.\n",
        "2. Standardize the polynomial features.\n",
        "3. Split the data into training and testing sets with polynomial features.\n",
        "4. Train the SVM model using GridSearchCV.\n",
        "5. Store the best hyperparameters, training accuracy, and test accuracy.\n",
        "6. Evaluate the model using a classification report."
      ]
    },
    {
      "cell_type": "code",
      "execution_count": 18,
      "metadata": {},
      "outputs": [
        {
          "name": "stdout",
          "output_type": "stream",
          "text": [
            "Tuned hyperparameters (best parameters): {'C': 0.6666666666666666, 'class_weight': 'balanced', 'gamma': 0.07, 'kernel': 'sigmoid'}\n",
            "Best cross-validated accuracy: 0.8464285714285715\n",
            "Accuracy (train): 0.7083333333333334\n",
            "Accuracy (test): 0.6666666666666666\n",
            "              precision    recall  f1-score   support\n",
            "\n",
            "           0       0.38      0.75      0.50         4\n",
            "           1       0.90      0.64      0.75        14\n",
            "\n",
            "    accuracy                           0.67        18\n",
            "   macro avg       0.64      0.70      0.62        18\n",
            "weighted avg       0.78      0.67      0.69        18\n",
            "\n"
          ]
        }
      ],
      "source": [
        "# Generate polynomial features\n",
        "poly = PolynomialFeatures(degree=2, interaction_only=True)\n",
        "X_poly = poly.fit_transform(X)\n",
        "\n",
        "# Standardize the polynomial features\n",
        "scaler = preprocessing.StandardScaler()\n",
        "X_poly_standardized = scaler.fit_transform(X_poly)\n",
        "\n",
        "# Split the data into training and testing sets\n",
        "X_train_poly, X_test_poly, Y_train_poly, Y_test_poly = train_test_split(X_poly_standardized, Y, test_size=0.2, random_state=42)\n",
        "\n",
        "# Train the model again with polynomial features using GridSearchCV\n",
        "svm_cv_poly = GridSearchCV(SVC(), refined_svm_parameters, cv=10)\n",
        "svm_cv_poly.fit(X_train_poly, Y_train_poly)\n",
        "\n",
        "# Store the best model\n",
        "best_model_svm_poly = svm_cv_poly.best_estimator_\n",
        "\n",
        "# Make predictions\n",
        "yhat_svm_poly = svm_cv_poly.predict(X_test_poly)\n",
        "\n",
        "# Calculate accuracy on the test data\n",
        "accuracy_test_svm_poly = best_model_svm_poly.score(X_test_poly, Y_test_poly)\n",
        "\n",
        "# Calculate accuracy on the training data\n",
        "accuracy_train_svm_poly = best_model_svm_poly.score(X_train_poly, Y_train_poly)\n",
        "\n",
        "# Store the results\n",
        "results['SVM_Polynomial'] = {\n",
        "    'best_params': svm_cv_poly.best_params_,\n",
        "    'best_score': svm_cv_poly.best_score_,\n",
        "    'train_accuracy': accuracy_train_svm_poly,\n",
        "    'test_accuracy': accuracy_test_svm_poly\n",
        "}\n",
        "\n",
        "# Print results\n",
        "print(\"Tuned hyperparameters (best parameters):\", svm_cv_poly.best_params_)\n",
        "print(\"Best cross-validated accuracy:\", svm_cv_poly.best_score_)\n",
        "print(\"Accuracy (train):\", accuracy_train_svm_poly)\n",
        "print(\"Accuracy (test):\", accuracy_test_svm_poly)\n",
        "\n",
        "# Evaluate the model\n",
        "print(classification_report(Y_test_poly, yhat_svm_poly))\n"
      ]
    },
    {
      "cell_type": "markdown",
      "metadata": {},
      "source": [
        "### Bagging Classifier with SVM\n",
        "\n",
        "To improve the performance of our SVM model, we use a Bagging Classifier. Bagging reduces variance and helps to avoid overfitting by training multiple models on different subsets of the training data and then aggregating their predictions.\n",
        "\n",
        "\n",
        "In the next cells, we'll perform the following steps:\n",
        "1. Create a BaggingClassifier with an SVM base estimator.\n",
        "2. Train the BaggingClassifier on the training data.\n",
        "3. Store the training accuracy and test accuracy.\n",
        "4. Evaluate the model using a classification report."
      ]
    },
    {
      "cell_type": "code",
      "execution_count": 19,
      "metadata": {},
      "outputs": [
        {
          "name": "stdout",
          "output_type": "stream",
          "text": [
            "Accuracy (train): 0.75\n",
            "Accuracy (test): 0.6111111111111112\n",
            "              precision    recall  f1-score   support\n",
            "\n",
            "           0       0.29      0.50      0.36         4\n",
            "           1       0.82      0.64      0.72        14\n",
            "\n",
            "    accuracy                           0.61        18\n",
            "   macro avg       0.55      0.57      0.54        18\n",
            "weighted avg       0.70      0.61      0.64        18\n",
            "\n"
          ]
        },
        {
          "name": "stderr",
          "output_type": "stream",
          "text": [
            "c:\\Users\\Santi\\anaconda3\\Lib\\site-packages\\sklearn\\ensemble\\_base.py:156: FutureWarning: `base_estimator` was renamed to `estimator` in version 1.2 and will be removed in 1.4.\n",
            "  warnings.warn(\n"
          ]
        }
      ],
      "source": [
        "# Create a BaggingClassifier with SVM\n",
        "bagging_svm = BaggingClassifier(base_estimator=SVC(kernel='sigmoid', C=1.0, gamma=0.03162277660168379, class_weight='balanced'), n_estimators=10, random_state=42)\n",
        "bagging_svm.fit(X_train, Y_train)\n",
        "\n",
        "# Make predictions\n",
        "yhat_bagging = bagging_svm.predict(X_test)\n",
        "\n",
        "# Calculate accuracy on the test data\n",
        "accuracy_test_bagging = bagging_svm.score(X_test, Y_test)\n",
        "\n",
        "# Calculate accuracy on the training data\n",
        "accuracy_train_bagging = bagging_svm.score(X_train, Y_train)\n",
        "\n",
        "# Store the results\n",
        "results['Bagging_SVM'] = {\n",
        "    'train_accuracy': accuracy_train_bagging,\n",
        "    'test_accuracy': accuracy_test_bagging\n",
        "}\n",
        "\n",
        "# Print results\n",
        "print(\"Accuracy (train):\", accuracy_train_bagging)\n",
        "print(\"Accuracy (test):\", accuracy_test_bagging)\n",
        "\n",
        "# Evaluate the model\n",
        "print(classification_report(Y_test, yhat_bagging))\n"
      ]
    },
    {
      "cell_type": "markdown",
      "metadata": {},
      "source": [
        "Based on the reports of the different attempts to improve the model, we can say that the original hyperparameter tuning was close to optimal and that the next attempts didn't show much improvement. Now, we'll plot a confusion matrix from the first SVM we created."
      ]
    },
    {
      "cell_type": "code",
      "execution_count": 20,
      "metadata": {
        "trusted": true
      },
      "outputs": [
        {
          "data": {
            "image/png": "[encoded data removed]",
            "text/plain": [
              "<Figure size 640x480 with 2 Axes>"
            ]
          },
          "metadata": {},
          "output_type": "display_data"
        },
        {
          "name": "stdout",
          "output_type": "stream",
          "text": [
            "Accuracy (test): 0.7777777777777778\n"
          ]
        }
      ],
      "source": [
        "plot_confusion_matrix(Y_test,yhat_svm)\n",
        "print(\"Accuracy (test):\", svm_cv.best_estimator_.score(X_test,Y_test))"
      ]
    },
    {
      "cell_type": "markdown",
      "metadata": {},
      "source": [
        "## Decision Tree Classifier\n"
      ]
    },
    {
      "cell_type": "markdown",
      "metadata": {},
      "source": [
        "Decision Tree Classifiers are a popular choice for classification tasks due to their simplicity and interpretability. They work by recursively splitting the data based on feature values, which can capture complex decision boundaries. We will use GridSearchCV to find the best hyperparameters for our Decision Tree model."
      ]
    },
    {
      "cell_type": "markdown",
      "metadata": {},
      "source": [
        "For this model, we perform the following steps:\n",
        "1. Define the parameter grid for the Decision Tree model.\n",
        "2. Create a Decision Tree model.\n",
        "3. Use GridSearchCV with KFold cross-validation to find the best hyperparameters.\n",
        "4. Fit the model on the training data.\n",
        "5. Store the best hyperparameters, training accuracy, and test accuracy.\n",
        "6. Evaluate the model using a classification report."
      ]
    },
    {
      "cell_type": "code",
      "execution_count": 21,
      "metadata": {
        "trusted": true
      },
      "outputs": [
        {
          "name": "stdout",
          "output_type": "stream",
          "text": [
            "Tuned hyperparameters (best parameters): {'criterion': 'entropy', 'max_depth': 8, 'max_features': 'log2', 'min_samples_leaf': 1, 'min_samples_split': 2, 'splitter': 'best'}\n",
            "Best cross-validated accuracy: 0.7678571428571428\n",
            "Accuracy (train): 0.8611111111111112\n",
            "Accuracy (test): 0.4444444444444444\n",
            "              precision    recall  f1-score   support\n",
            "\n",
            "           0       0.12      0.25      0.17         4\n",
            "           1       0.70      0.50      0.58        14\n",
            "\n",
            "    accuracy                           0.44        18\n",
            "   macro avg       0.41      0.38      0.38        18\n",
            "weighted avg       0.57      0.44      0.49        18\n",
            "\n"
          ]
        }
      ],
      "source": [
        "# Define the parameter grid\n",
        "tree_parameters = {\n",
        "    'criterion': ['gini', 'entropy'],\n",
        "    'splitter': ['best', 'random'],\n",
        "    'max_depth': [2*n for n in range(1, 10)],\n",
        "    'max_features': ['log2', 'sqrt'],\n",
        "    'min_samples_leaf': [1, 2, 4],\n",
        "    'min_samples_split': [2, 5, 10]\n",
        "}\n",
        "\n",
        "# Create a Decision Tree model\n",
        "tree = DecisionTreeClassifier()\n",
        "\n",
        "# Create a GridSearchCV object\n",
        "tree_cv = GridSearchCV(tree, tree_parameters, cv=10)\n",
        "\n",
        "# Fit the GridSearchCV object to find the best parameters\n",
        "tree_cv.fit(X_train, Y_train)\n",
        "\n",
        "# Store the best model\n",
        "best_tree_model = tree_cv.best_estimator_\n",
        "\n",
        "# Make predictions\n",
        "yhat_tree = best_tree_model.predict(X_test)\n",
        "\n",
        "# Calculate accuracy on the test data\n",
        "accuracy_test_tree = best_tree_model.score(X_test, Y_test)\n",
        "\n",
        "# Calculate accuracy on the training data\n",
        "accuracy_train_tree = best_tree_model.score(X_train, Y_train)\n",
        "\n",
        "# Store the results\n",
        "results['DecisionTree'] = {\n",
        "    'best_params': tree_cv.best_params_,\n",
        "    'best_score': tree_cv.best_score_,\n",
        "    'train_accuracy': accuracy_train_tree,\n",
        "    'test_accuracy': accuracy_test_tree\n",
        "}\n",
        "\n",
        "# Print results\n",
        "print(\"Tuned hyperparameters (best parameters):\", tree_cv.best_params_)\n",
        "print(\"Best cross-validated accuracy:\", tree_cv.best_score_)\n",
        "print(\"Accuracy (train):\", accuracy_train_tree)\n",
        "print(\"Accuracy (test):\", accuracy_test_tree)\n",
        "\n",
        "# Evaluate the model\n",
        "print(classification_report(Y_test, yhat_tree))\n"
      ]
    },
    {
      "cell_type": "markdown",
      "metadata": {},
      "source": [
        "### Decision Tree Classifier with Randomized Search\n",
        "\n",
        "To further optimize our Decision Tree Classifier, we use RandomizedSearchCV. This approach samples a specified number of hyperparameter combinations from the grid, making it more efficient than GridSearchCV for large parameter spaces.\n",
        "\n",
        "We'll perform the following steps:\n",
        "1. Define a refined parameter grid for the Decision Tree model.\n",
        "2. Use RandomizedSearchCV with KFold cross-validation to find the best hyperparameters.\n",
        "3. Fit the model on the training data.\n",
        "4. Store the best hyperparameters, training accuracy, and test accuracy.\n",
        "5. Evaluate the model using a classification report.\n"
      ]
    },
    {
      "cell_type": "code",
      "execution_count": 22,
      "metadata": {},
      "outputs": [
        {
          "name": "stdout",
          "output_type": "stream",
          "text": [
            "Tuned hyperparameters (best parameters): {'splitter': 'best', 'min_samples_split': 10, 'min_samples_leaf': 1, 'max_features': 'sqrt', 'max_depth': 6, 'criterion': 'gini'}\n",
            "Best cross-validated accuracy: 0.7357142857142857\n",
            "Accuracy (train): 0.8472222222222222\n",
            "Accuracy (test): 0.6666666666666666\n",
            "              precision    recall  f1-score   support\n",
            "\n",
            "           0       0.00      0.00      0.00         4\n",
            "           1       0.75      0.86      0.80        14\n",
            "\n",
            "    accuracy                           0.67        18\n",
            "   macro avg       0.38      0.43      0.40        18\n",
            "weighted avg       0.58      0.67      0.62        18\n",
            "\n"
          ]
        }
      ],
      "source": [
        "# Refined parameter grid\n",
        "random_tree_parameters = {\n",
        "    'criterion': ['gini', 'entropy'],\n",
        "    'splitter': ['best', 'random'],\n",
        "    'max_depth': [2*n for n in range(1, 10)],\n",
        "    'max_features': ['log2', 'sqrt', None],\n",
        "    'min_samples_leaf': [1, 2, 4, 6, 8],\n",
        "    'min_samples_split': [2, 5, 10, 15, 20]\n",
        "}\n",
        "\n",
        "# Create a RandomizedSearchCV object\n",
        "tree_random = RandomizedSearchCV(tree, random_tree_parameters, cv=10, n_iter=100, random_state=42, n_jobs=-1)\n",
        "\n",
        "# Fit the RandomizedSearchCV object to find the best parameters\n",
        "tree_random.fit(X_train, Y_train)\n",
        "\n",
        "# Store the best model\n",
        "rand_best_tree_model = tree_random.best_estimator_\n",
        "\n",
        "# Make predictions\n",
        "yhat_tree_random = rand_best_tree_model.predict(X_test)\n",
        "\n",
        "# Calculate accuracy on the test data\n",
        "accuracy_test_tree_random = rand_best_tree_model.score(X_test, Y_test)\n",
        "\n",
        "# Calculate accuracy on the training data\n",
        "accuracy_train_tree_random = rand_best_tree_model.score(X_train, Y_train)\n",
        "\n",
        "# Store the results\n",
        "results['D_Tree_Randomized'] = {\n",
        "    'best_params': tree_random.best_params_,\n",
        "    'best_score': tree_random.best_score_,\n",
        "    'train_accuracy': accuracy_train_tree_random,\n",
        "    'test_accuracy': accuracy_test_tree_random\n",
        "}\n",
        "\n",
        "# Print results\n",
        "print(\"Tuned hyperparameters (best parameters):\", tree_random.best_params_)\n",
        "print(\"Best cross-validated accuracy:\", tree_random.best_score_)\n",
        "print(\"Accuracy (train):\", accuracy_train_tree_random)\n",
        "print(\"Accuracy (test):\", accuracy_test_tree_random)\n",
        "\n",
        "# Evaluate the model\n",
        "print(classification_report(Y_test, yhat_tree_random))\n"
      ]
    },
    {
      "cell_type": "markdown",
      "metadata": {},
      "source": [
        "### Decision Tree Classifier with Polynomial Features and Randomized Search\n",
        "\n",
        "To further explore the performance of our Decision Tree Classifier, we generate polynomial features and use RandomizedSearchCV to find the best hyperparameters.\n",
        "\n",
        "In this section, we perform the following steps:\n",
        "1. Generate polynomial features.\n",
        "2. Split the data into training and testing sets with polynomial features.\n",
        "3. Use RandomizedSearchCV with KFold cross-validation to find the best hyperparameters.\n",
        "4. Fit the model on the training data.\n",
        "5. Store the best hyperparameters, training accuracy, and test accuracy.\n",
        "6. Evaluate the model using a classification report."
      ]
    },
    {
      "cell_type": "code",
      "execution_count": 23,
      "metadata": {},
      "outputs": [
        {
          "name": "stdout",
          "output_type": "stream",
          "text": [
            "Tuned hyperparameters (best parameters): {'splitter': 'best', 'min_samples_split': 10, 'min_samples_leaf': 8, 'max_features': 'sqrt', 'max_depth': 8, 'criterion': 'gini'}\n",
            "Best cross-validated accuracy: 0.875\n",
            "Accuracy (train): 0.8194444444444444\n",
            "Accuracy (test): 0.8888888888888888\n",
            "              precision    recall  f1-score   support\n",
            "\n",
            "           0       0.75      0.75      0.75         4\n",
            "           1       0.93      0.93      0.93        14\n",
            "\n",
            "    accuracy                           0.89        18\n",
            "   macro avg       0.84      0.84      0.84        18\n",
            "weighted avg       0.89      0.89      0.89        18\n",
            "\n"
          ]
        }
      ],
      "source": [
        "# Generate polynomial features\n",
        "poly = PolynomialFeatures(degree=2, interaction_only=True)\n",
        "X_poly = poly.fit_transform(X)\n",
        "\n",
        "# Split the data\n",
        "X_train_poly, X_test_poly, Y_train_poly, Y_test_poly = train_test_split(X_poly, Y, test_size=0.2, random_state=42)\n",
        "\n",
        "# Fit the RandomizedSearchCV object to find the best parameters on the polynomial features\n",
        "tree_cv_poly = RandomizedSearchCV(tree, random_tree_parameters, cv=10, n_iter=100, random_state=42, n_jobs=-1)\n",
        "tree_cv_poly.fit(X_train_poly, Y_train_poly)\n",
        "\n",
        "# Store the best model\n",
        "best_tree_model_poly = tree_cv_poly.best_estimator_\n",
        "\n",
        "# Make predictions\n",
        "yhat_tree_poly = best_tree_model_poly.predict(X_test_poly)\n",
        "\n",
        "# Calculate accuracy on the test data\n",
        "accuracy_test_tree_poly = best_tree_model_poly.score(X_test_poly, Y_test_poly)\n",
        "\n",
        "# Calculate accuracy on the training data\n",
        "accuracy_train_tree_poly = best_tree_model_poly.score(X_train_poly, Y_train_poly)\n",
        "\n",
        "# Store the results\n",
        "results['D_Tree_Polynomial'] = {\n",
        "    'best_params': tree_cv_poly.best_params_,\n",
        "    'best_score': tree_cv_poly.best_score_,\n",
        "    'train_accuracy': accuracy_train_tree_poly,\n",
        "    'test_accuracy': accuracy_test_tree_poly\n",
        "}\n",
        "\n",
        "# Print results\n",
        "print(\"Tuned hyperparameters (best parameters):\", tree_cv_poly.best_params_)\n",
        "print(\"Best cross-validated accuracy:\", tree_cv_poly.best_score_)\n",
        "print(\"Accuracy (train):\", accuracy_train_tree_poly)\n",
        "print(\"Accuracy (test):\", accuracy_test_tree_poly)\n",
        "\n",
        "# Evaluate the model\n",
        "print(classification_report(Y_test_poly, yhat_tree_poly))\n"
      ]
    },
    {
      "cell_type": "markdown",
      "metadata": {},
      "source": [
        "### Random Forest Classifier with Randomized Search\n",
        "\n",
        "Random Forest Classifiers are an ensemble method that combines multiple decision trees to improve predictive performance and control overfitting. We use RandomizedSearchCV to find the best hyperparameters for our Random Forest model.\n",
        "\n",
        "In this section, we perform the following steps:\n",
        "1. Define the parameter grid for the Random Forest model.\n",
        "2. Use RandomizedSearchCV with KFold cross-validation to find the best hyperparameters.\n",
        "3. Fit the model on the training data.\n",
        "4. Store the best hyperparameters, training accuracy, and test accuracy.\n",
        "5. Evaluate the model using a classification report."
      ]
    },
    {
      "cell_type": "code",
      "execution_count": 24,
      "metadata": {},
      "outputs": [
        {
          "name": "stdout",
          "output_type": "stream",
          "text": [
            "Tuned hyperparameters (best parameters): {'n_estimators': 200, 'min_samples_split': 2, 'min_samples_leaf': 1, 'max_features': 'log2', 'max_depth': 10, 'criterion': 'gini'}\n",
            "Best cross-validated accuracy: 0.7535714285714286\n",
            "Accuracy (train): 1.0\n",
            "Accuracy (test): 0.7222222222222222\n",
            "              precision    recall  f1-score   support\n",
            "\n",
            "           0       0.00      0.00      0.00         4\n",
            "           1       0.76      0.93      0.84        14\n",
            "\n",
            "    accuracy                           0.72        18\n",
            "   macro avg       0.38      0.46      0.42        18\n",
            "weighted avg       0.59      0.72      0.65        18\n",
            "\n"
          ]
        }
      ],
      "source": [
        "# Define parameter grid for Random Forest\n",
        "parameters_rf = {\n",
        "    'n_estimators': [50, 100, 200],\n",
        "    'criterion': ['gini', 'entropy'],\n",
        "    'max_depth': [None, 10, 20, 30],\n",
        "    'max_features': ['log2', 'sqrt'],\n",
        "    'min_samples_leaf': [1, 2, 4],\n",
        "    'min_samples_split': [2, 5, 10]\n",
        "}\n",
        "\n",
        "rf = RandomForestClassifier(random_state=42)\n",
        "\n",
        "# Create a RandomizedSearchCV object\n",
        "rf_cv = RandomizedSearchCV(rf, parameters_rf, cv=10, n_iter=100, random_state=42, n_jobs=-1)\n",
        "\n",
        "# Fit the RandomizedSearchCV object to find the best parameters\n",
        "rf_cv.fit(X_train, Y_train)\n",
        "\n",
        "# Store the best model\n",
        "best_rf_model = rf_cv.best_estimator_\n",
        "\n",
        "# Make predictions\n",
        "yhat_rf = best_rf_model.predict(X_test)\n",
        "\n",
        "# Calculate accuracy on the test data\n",
        "accuracy_test_rf = best_rf_model.score(X_test, Y_test)\n",
        "\n",
        "# Calculate accuracy on the training data\n",
        "accuracy_train_rf = best_rf_model.score(X_train, Y_train)\n",
        "\n",
        "# Store the results\n",
        "results['RandomForest'] = {\n",
        "    'best_params': rf_cv.best_params_,\n",
        "    'best_score': rf_cv.best_score_,\n",
        "    'train_accuracy': accuracy_train_rf,\n",
        "    'test_accuracy': accuracy_test_rf\n",
        "}\n",
        "\n",
        "# Print results\n",
        "print(\"Tuned hyperparameters (best parameters):\", rf_cv.best_params_)\n",
        "print(\"Best cross-validated accuracy:\", rf_cv.best_score_)\n",
        "print(\"Accuracy (train):\", accuracy_train_rf)\n",
        "print(\"Accuracy (test):\", accuracy_test_rf)\n",
        "\n",
        "# Evaluate the model\n",
        "print(classification_report(Y_test, yhat_rf))\n"
      ]
    },
    {
      "cell_type": "markdown",
      "metadata": {},
      "source": [
        "From all the methods we tried to improve the Decission Tree Classifier, we can come to the conclusion that the model with the best performance was the one with Polynomial Features. Let's plot a confusion matrix with this model:\n"
      ]
    },
    {
      "cell_type": "code",
      "execution_count": 25,
      "metadata": {
        "trusted": true
      },
      "outputs": [
        {
          "data": {
            "image/png": "[encoded data removed]",
            "text/plain": [
              "<Figure size 640x480 with 2 Axes>"
            ]
          },
          "metadata": {},
          "output_type": "display_data"
        },
        {
          "name": "stdout",
          "output_type": "stream",
          "text": [
            "Accuracy (test): 0.8888888888888888\n"
          ]
        }
      ],
      "source": [
        "plot_confusion_matrix(Y_test_poly,yhat_tree_poly)\n",
        "print(\"Accuracy (test):\", best_tree_model_poly.score(X_test_poly,Y_test_poly))"
      ]
    },
    {
      "cell_type": "markdown",
      "metadata": {},
      "source": [
        "## K Nearest Neighbors\n"
      ]
    },
    {
      "cell_type": "markdown",
      "metadata": {},
      "source": [
        "K-Nearest Neighbors (KNN) is a simple, instance-based learning algorithm used for classification tasks. We use GridSearchCV to find the best hyperparameters for our KNN model.\n",
        "\n",
        "In this section, we perform the following steps:\n",
        "1. Define the parameter grid for the KNN model.\n",
        "2. Use GridSearchCV with KFold cross-validation to find the best hyperparameters.\n",
        "3. Fit the model on the training data.\n",
        "4. Store the best hyperparameters, training accuracy, and test accuracy.\n",
        "5. Evaluate the model using a classification report.\n"
      ]
    },
    {
      "cell_type": "code",
      "execution_count": 26,
      "metadata": {
        "trusted": true
      },
      "outputs": [
        {
          "name": "stdout",
          "output_type": "stream",
          "text": [
            "Tuned hyperparameters (best parameters): {'algorithm': 'auto', 'n_neighbors': 3, 'p': 1}\n",
            "Best cross-validated accuracy: 0.6821428571428572\n",
            "Accuracy (train): 0.8472222222222222\n",
            "Accuracy (test): 0.6111111111111112\n",
            "              precision    recall  f1-score   support\n",
            "\n",
            "           0       0.29      0.50      0.36         4\n",
            "           1       0.82      0.64      0.72        14\n",
            "\n",
            "    accuracy                           0.61        18\n",
            "   macro avg       0.55      0.57      0.54        18\n",
            "weighted avg       0.70      0.61      0.64        18\n",
            "\n"
          ]
        }
      ],
      "source": [
        "from sklearn.neighbors import KNeighborsClassifier\n",
        "from sklearn.metrics import classification_report\n",
        "from sklearn.model_selection import GridSearchCV\n",
        "\n",
        "# Define the parameter grid\n",
        "parameters_knn = {\n",
        "    'n_neighbors': [1, 2, 3, 4, 5, 6, 7, 8, 9, 10],\n",
        "    'algorithm': ['auto', 'ball_tree', 'kd_tree', 'brute'],\n",
        "    'p': [1, 2]\n",
        "}\n",
        "\n",
        "# Create a KNeighborsClassifier object\n",
        "KNN = KNeighborsClassifier()\n",
        "\n",
        "# Create a GridSearchCV object\n",
        "knn_cv = GridSearchCV(KNN, parameters_knn, cv=10)\n",
        "\n",
        "# Fit the GridSearchCV object to find the best parameters\n",
        "knn_cv.fit(X_train, Y_train)\n",
        "\n",
        "# Store the best model\n",
        "best_knn_model = knn_cv.best_estimator_\n",
        "\n",
        "# Make predictions\n",
        "yhat_knn = best_knn_model.predict(X_test)\n",
        "\n",
        "# Calculate accuracy on the test data\n",
        "accuracy_test_knn = best_knn_model.score(X_test, Y_test)\n",
        "\n",
        "# Calculate accuracy on the training data\n",
        "accuracy_train_knn = best_knn_model.score(X_train, Y_train)\n",
        "\n",
        "# Store the results\n",
        "results['KNN'] = {\n",
        "    'best_params': knn_cv.best_params_,\n",
        "    'best_score': knn_cv.best_score_,\n",
        "    'train_accuracy': accuracy_train_knn,\n",
        "    'test_accuracy': accuracy_test_knn\n",
        "}\n",
        "\n",
        "# Print results\n",
        "print(\"Tuned hyperparameters (best parameters):\", knn_cv.best_params_)\n",
        "print(\"Best cross-validated accuracy:\", knn_cv.best_score_)\n",
        "print(\"Accuracy (train):\", accuracy_train_knn)\n",
        "print(\"Accuracy (test):\", accuracy_test_knn)\n",
        "\n",
        "# Evaluate the model\n",
        "print(classification_report(Y_test, yhat_knn))\n"
      ]
    },
    {
      "cell_type": "markdown",
      "metadata": {},
      "source": [
        "### K-Nearest Neighbors with Recursive Feature Elimination (RFE)\n",
        "\n",
        "To improve the performance of our K-Nearest Neighbors (KNN) model, we use Recursive Feature Elimination (RFE) with a Logistic Regression estimator to select the top features. We then use GridSearchCV to find the best hyperparameters for our KNN model on the selected features.\n",
        "\n",
        "In this section, we perform the following steps:\n",
        "1. Use RFE with a Logistic Regression estimator to select the top features.\n",
        "2. Transform the data to the selected features.\n",
        "3. Use GridSearchCV with KFold cross-validation to find the best hyperparameters.\n",
        "4. Fit the model on the training data.\n",
        "5. Store the best hyperparameters, training accuracy, and test accuracy.\n",
        "6. Evaluate the model using a classification report."
      ]
    },
    {
      "cell_type": "code",
      "execution_count": 27,
      "metadata": {},
      "outputs": [
        {
          "name": "stdout",
          "output_type": "stream",
          "text": [
            "Tuned hyperparameters (best parameters): {'algorithm': 'auto', 'n_neighbors': 3, 'p': 1}\n",
            "Best cross-validated accuracy: 0.7910714285714286\n",
            "Accuracy (train): 0.8333333333333334\n",
            "Accuracy (test): 0.7222222222222222\n",
            "              precision    recall  f1-score   support\n",
            "\n",
            "           0       0.00      0.00      0.00         4\n",
            "           1       0.76      0.93      0.84        14\n",
            "\n",
            "    accuracy                           0.72        18\n",
            "   macro avg       0.38      0.46      0.42        18\n",
            "weighted avg       0.59      0.72      0.65        18\n",
            "\n"
          ]
        }
      ],
      "source": [
        "# Use RFE with a Logistic Regression estimator to select the top features\n",
        "selector = RFE(estimator=LogisticRegression(max_iter=5000), n_features_to_select=10)\n",
        "selector = selector.fit(X_train, Y_train)\n",
        "\n",
        "# Transform the data to the selected features\n",
        "X_train_rfe = selector.transform(X_train)\n",
        "X_test_rfe = selector.transform(X_test)\n",
        "\n",
        "# Fit the GridSearchCV object to find the best parameters on the selected features\n",
        "knn_cv.fit(X_train_rfe, Y_train)\n",
        "\n",
        "# Store the best model\n",
        "best_knn_model_rfe = knn_cv.best_estimator_\n",
        "\n",
        "# Make predictions\n",
        "yhat_knn_rfe = best_knn_model_rfe.predict(X_test_rfe)\n",
        "\n",
        "# Calculate accuracy on the test data\n",
        "accuracy_test_knn_rfe = best_knn_model_rfe.score(X_test_rfe, Y_test)\n",
        "\n",
        "# Calculate accuracy on the training data\n",
        "accuracy_train_knn_rfe = best_knn_model_rfe.score(X_train_rfe, Y_train)\n",
        "\n",
        "# Store the results\n",
        "results['KNN_RFE'] = {\n",
        "    'best_params': knn_cv.best_params_,\n",
        "    'best_score': knn_cv.best_score_,\n",
        "    'train_accuracy': accuracy_train_knn_rfe,\n",
        "    'test_accuracy': accuracy_test_knn_rfe\n",
        "}\n",
        "\n",
        "# Print results\n",
        "print(\"Tuned hyperparameters (best parameters):\", knn_cv.best_params_)\n",
        "print(\"Best cross-validated accuracy:\", knn_cv.best_score_)\n",
        "print(\"Accuracy (train):\", accuracy_train_knn_rfe)\n",
        "print(\"Accuracy (test):\", accuracy_test_knn_rfe)\n",
        "\n",
        "# Evaluate the model\n",
        "print(classification_report(Y_test, yhat_knn_rfe))\n"
      ]
    },
    {
      "cell_type": "markdown",
      "metadata": {},
      "source": [
        "### K-Nearest Neighbors with Stratified K-Fold Cross-Validation\n",
        "\n",
        "To improve the performance of our K-Nearest Neighbors (KNN) model, we use Stratified K-Fold Cross-Validation to ensure that each fold of the dataset has the same proportion of observations with a given label. We then use GridSearchCV to find the best hyperparameters for our KNN model.\n",
        "\n",
        "In this section, we perform the following steps:\n",
        "1. Define StratifiedKFold cross-validation.\n",
        "2. Use GridSearchCV with StratifiedKFold cross-validation to find the best hyperparameters.\n",
        "3. Fit the model on the training data.\n",
        "4. Store the best hyperparameters, training accuracy, and test accuracy.\n",
        "5. Evaluate the model using a classification report."
      ]
    },
    {
      "cell_type": "code",
      "execution_count": 28,
      "metadata": {},
      "outputs": [
        {
          "name": "stdout",
          "output_type": "stream",
          "text": [
            "Tuned hyperparameters (best parameters): {'algorithm': 'auto', 'n_neighbors': 5, 'p': 1}\n",
            "Best cross-validated accuracy: 0.6660714285714285\n",
            "Accuracy (train): 0.7222222222222222\n",
            "Accuracy (test): 0.5555555555555556\n",
            "              precision    recall  f1-score   support\n",
            "\n",
            "           0       0.17      0.25      0.20         4\n",
            "           1       0.75      0.64      0.69        14\n",
            "\n",
            "    accuracy                           0.56        18\n",
            "   macro avg       0.46      0.45      0.45        18\n",
            "weighted avg       0.62      0.56      0.58        18\n",
            "\n"
          ]
        }
      ],
      "source": [
        "# Define StratifiedKFold\n",
        "cv = StratifiedKFold(n_splits=10, shuffle=True, random_state=42)\n",
        "\n",
        "# Create a GridSearchCV object with StratifiedKFold\n",
        "knn_cv_kfold = GridSearchCV(KNN, parameters_knn, cv=cv)\n",
        "knn_cv_kfold.fit(X_train, Y_train)\n",
        "\n",
        "# Store the best model\n",
        "best_knn_model_kfold = knn_cv_kfold.best_estimator_\n",
        "\n",
        "# Make predictions\n",
        "yhat_knn_kfold = best_knn_model_kfold.predict(X_test)\n",
        "\n",
        "# Calculate accuracy on the test data\n",
        "accuracy_test_knn_kfold = best_knn_model_kfold.score(X_test, Y_test)\n",
        "\n",
        "# Calculate accuracy on the training data\n",
        "accuracy_train_knn_kfold = best_knn_model_kfold.score(X_train, Y_train)\n",
        "\n",
        "# Store the results\n",
        "results['KNN_StratifiedKFold'] = {\n",
        "    'best_params': knn_cv_kfold.best_params_,\n",
        "    'best_score': knn_cv_kfold.best_score_,\n",
        "    'train_accuracy': accuracy_train_knn_kfold,\n",
        "    'test_accuracy': accuracy_test_knn_kfold\n",
        "}\n",
        "\n",
        "# Print results\n",
        "print(\"Tuned hyperparameters (best parameters):\", knn_cv_kfold.best_params_)\n",
        "print(\"Best cross-validated accuracy:\", knn_cv_kfold.best_score_)\n",
        "print(\"Accuracy (train):\", accuracy_train_knn_kfold)\n",
        "print(\"Accuracy (test):\", accuracy_test_knn_kfold)\n",
        "\n",
        "# Evaluate the model\n",
        "print(classification_report(Y_test, yhat_knn_kfold))"
      ]
    },
    {
      "cell_type": "markdown",
      "metadata": {},
      "source": [
        "### Bagging Classifier with KNN\n",
        "\n",
        "To improve the performance of our K-Nearest Neighbors (KNN) model, we use a Bagging Classifier. Bagging reduces variance and helps to avoid overfitting by training multiple models on different subsets of the training data and then aggregating their predictions.\n",
        "\n",
        "In this section, we perform the following steps:\n",
        "1. Create a BaggingClassifier with a KNN base estimator.\n",
        "2. Train the BaggingClassifier on the training data.\n",
        "3. Store the training accuracy and test accuracy.\n",
        "4. Evaluate the model using a classification report."
      ]
    },
    {
      "cell_type": "code",
      "execution_count": 29,
      "metadata": {},
      "outputs": [
        {
          "name": "stderr",
          "output_type": "stream",
          "text": [
            "c:\\Users\\Santi\\anaconda3\\Lib\\site-packages\\sklearn\\ensemble\\_base.py:156: FutureWarning: `base_estimator` was renamed to `estimator` in version 1.2 and will be removed in 1.4.\n",
            "  warnings.warn(\n"
          ]
        },
        {
          "name": "stdout",
          "output_type": "stream",
          "text": [
            "Accuracy (train) with bagging: 0.7222222222222222\n",
            "Accuracy (test) with bagging: 0.5555555555555556\n",
            "              precision    recall  f1-score   support\n",
            "\n",
            "           0       0.17      0.25      0.20         4\n",
            "           1       0.75      0.64      0.69        14\n",
            "\n",
            "    accuracy                           0.56        18\n",
            "   macro avg       0.46      0.45      0.45        18\n",
            "weighted avg       0.62      0.56      0.58        18\n",
            "\n"
          ]
        }
      ],
      "source": [
        "# Create a BaggingClassifier with KNN\n",
        "bagging_knn = BaggingClassifier(base_estimator=KNeighborsClassifier(n_neighbors=10, p=1), n_estimators=10, random_state=42)\n",
        "bagging_knn.fit(X_train, Y_train)\n",
        "\n",
        "# Make predictions\n",
        "yhat_bagging_knn = bagging_knn.predict(X_test)\n",
        "\n",
        "# Calculate accuracy on the test data\n",
        "accuracy_test_bagging_knn = bagging_knn.score(X_test, Y_test)\n",
        "\n",
        "# Calculate accuracy on the training data\n",
        "accuracy_train_bagging_knn = bagging_knn.score(X_train, Y_train)\n",
        "\n",
        "# Store the results\n",
        "results['Bagging_KNN'] = {\n",
        "    'train_accuracy': accuracy_train_bagging_knn,\n",
        "    'test_accuracy': accuracy_test_bagging_knn\n",
        "}\n",
        "\n",
        "# Print results\n",
        "print(\"Accuracy (train) with bagging:\", accuracy_train_bagging_knn)\n",
        "print(\"Accuracy (test) with bagging:\", accuracy_test_bagging_knn)\n",
        "\n",
        "# Evaluate the model\n",
        "print(classification_report(Y_test, yhat_bagging_knn))"
      ]
    },
    {
      "cell_type": "markdown",
      "metadata": {},
      "source": [
        "Since none of the techniques improve the accuracy, we can plot the confusion matrix with the original KNN:\n"
      ]
    },
    {
      "cell_type": "code",
      "execution_count": 30,
      "metadata": {
        "trusted": true
      },
      "outputs": [
        {
          "data": {
            "image/png": "[encoded data removed]",
            "text/plain": [
              "<Figure size 640x480 with 2 Axes>"
            ]
          },
          "metadata": {},
          "output_type": "display_data"
        },
        {
          "name": "stdout",
          "output_type": "stream",
          "text": [
            "Accuracy (test): 0.7222222222222222\n"
          ]
        }
      ],
      "source": [
        "plot_confusion_matrix(Y_test,yhat_knn_rfe)\n",
        "print(\"Accuracy (test):\", best_knn_model_rfe.score(X_test_rfe,Y_test))"
      ]
    },
    {
      "cell_type": "markdown",
      "metadata": {},
      "source": [
        "## Let's compare models\n"
      ]
    },
    {
      "cell_type": "markdown",
      "metadata": {},
      "source": [
        "Find the method performs best:\n"
      ]
    },
    {
      "cell_type": "code",
      "execution_count": 31,
      "metadata": {
        "trusted": true
      },
      "outputs": [
        {
          "data": {
            "text/html": [
              "<div>\n",
              "<style scoped>\n",
              "    .dataframe tbody tr th:only-of-type {\n",
              "        vertical-align: middle;\n",
              "    }\n",
              "\n",
              "    .dataframe tbody tr th {\n",
              "        vertical-align: top;\n",
              "    }\n",
              "\n",
              "    .dataframe thead th {\n",
              "        text-align: right;\n",
              "    }\n",
              "</style>\n",
              "<table border=\"1\" class=\"dataframe\">\n",
              "  <thead>\n",
              "    <tr style=\"text-align: right;\">\n",
              "      <th></th>\n",
              "      <th>Best Hyperparameters</th>\n",
              "      <th>Best CV Accuracy</th>\n",
              "      <th>Train Accuracy</th>\n",
              "      <th>Test Accuracy</th>\n",
              "    </tr>\n",
              "  </thead>\n",
              "  <tbody>\n",
              "    <tr>\n",
              "      <th>LogisticRegression</th>\n",
              "      <td>{'C': 0.1, 'penalty': 'l1', 'solver': 'saga'}</td>\n",
              "      <td>0.860714</td>\n",
              "      <td>0.861111</td>\n",
              "      <td>0.833333</td>\n",
              "    </tr>\n",
              "    <tr>\n",
              "      <th>LogReg_Reduced</th>\n",
              "      <td>{'C': 0.01, 'penalty': 'l2', 'solver': 'lbfgs'}</td>\n",
              "      <td>0.846429</td>\n",
              "      <td>0.847222</td>\n",
              "      <td>0.944444</td>\n",
              "    </tr>\n",
              "    <tr>\n",
              "      <th>SVM</th>\n",
              "      <td>{'C': 31.622776601683793, 'gamma': 0.031622776...</td>\n",
              "      <td>0.739286</td>\n",
              "      <td>1.0</td>\n",
              "      <td>0.777778</td>\n",
              "    </tr>\n",
              "    <tr>\n",
              "      <th>SVM_Refined</th>\n",
              "      <td>{'C': 0.8333333333333333, 'class_weight': 'bal...</td>\n",
              "      <td>0.666071</td>\n",
              "      <td>0.902778</td>\n",
              "      <td>0.555556</td>\n",
              "    </tr>\n",
              "    <tr>\n",
              "      <th>SVM_Polynomial</th>\n",
              "      <td>{'C': 0.6666666666666666, 'class_weight': 'bal...</td>\n",
              "      <td>0.846429</td>\n",
              "      <td>0.708333</td>\n",
              "      <td>0.666667</td>\n",
              "    </tr>\n",
              "    <tr>\n",
              "      <th>Bagging_SVM</th>\n",
              "      <td>NaN</td>\n",
              "      <td>NaN</td>\n",
              "      <td>0.75</td>\n",
              "      <td>0.611111</td>\n",
              "    </tr>\n",
              "    <tr>\n",
              "      <th>DecisionTree</th>\n",
              "      <td>{'criterion': 'entropy', 'max_depth': 8, 'max_...</td>\n",
              "      <td>0.767857</td>\n",
              "      <td>0.861111</td>\n",
              "      <td>0.444444</td>\n",
              "    </tr>\n",
              "    <tr>\n",
              "      <th>D_Tree_Randomized</th>\n",
              "      <td>{'splitter': 'best', 'min_samples_split': 10, ...</td>\n",
              "      <td>0.735714</td>\n",
              "      <td>0.847222</td>\n",
              "      <td>0.666667</td>\n",
              "    </tr>\n",
              "    <tr>\n",
              "      <th>D_Tree_Polynomial</th>\n",
              "      <td>{'splitter': 'best', 'min_samples_split': 10, ...</td>\n",
              "      <td>0.875</td>\n",
              "      <td>0.819444</td>\n",
              "      <td>0.888889</td>\n",
              "    </tr>\n",
              "    <tr>\n",
              "      <th>RandomForest</th>\n",
              "      <td>{'n_estimators': 200, 'min_samples_split': 2, ...</td>\n",
              "      <td>0.753571</td>\n",
              "      <td>1.0</td>\n",
              "      <td>0.722222</td>\n",
              "    </tr>\n",
              "    <tr>\n",
              "      <th>KNN</th>\n",
              "      <td>{'algorithm': 'auto', 'n_neighbors': 3, 'p': 1}</td>\n",
              "      <td>0.682143</td>\n",
              "      <td>0.847222</td>\n",
              "      <td>0.611111</td>\n",
              "    </tr>\n",
              "    <tr>\n",
              "      <th>KNN_RFE</th>\n",
              "      <td>{'algorithm': 'auto', 'n_neighbors': 3, 'p': 1}</td>\n",
              "      <td>0.791071</td>\n",
              "      <td>0.833333</td>\n",
              "      <td>0.722222</td>\n",
              "    </tr>\n",
              "    <tr>\n",
              "      <th>KNN_StratifiedKFold</th>\n",
              "      <td>{'algorithm': 'auto', 'n_neighbors': 5, 'p': 1}</td>\n",
              "      <td>0.666071</td>\n",
              "      <td>0.722222</td>\n",
              "      <td>0.555556</td>\n",
              "    </tr>\n",
              "    <tr>\n",
              "      <th>Bagging_KNN</th>\n",
              "      <td>NaN</td>\n",
              "      <td>NaN</td>\n",
              "      <td>0.722222</td>\n",
              "      <td>0.555556</td>\n",
              "    </tr>\n",
              "  </tbody>\n",
              "</table>\n",
              "</div>"
            ],
            "text/plain": [
              "                                                  Best Hyperparameters  \\\n",
              "LogisticRegression       {'C': 0.1, 'penalty': 'l1', 'solver': 'saga'}   \n",
              "LogReg_Reduced         {'C': 0.01, 'penalty': 'l2', 'solver': 'lbfgs'}   \n",
              "SVM                  {'C': 31.622776601683793, 'gamma': 0.031622776...   \n",
              "SVM_Refined          {'C': 0.8333333333333333, 'class_weight': 'bal...   \n",
              "SVM_Polynomial       {'C': 0.6666666666666666, 'class_weight': 'bal...   \n",
              "Bagging_SVM                                                        NaN   \n",
              "DecisionTree         {'criterion': 'entropy', 'max_depth': 8, 'max_...   \n",
              "D_Tree_Randomized    {'splitter': 'best', 'min_samples_split': 10, ...   \n",
              "D_Tree_Polynomial    {'splitter': 'best', 'min_samples_split': 10, ...   \n",
              "RandomForest         {'n_estimators': 200, 'min_samples_split': 2, ...   \n",
              "KNN                    {'algorithm': 'auto', 'n_neighbors': 3, 'p': 1}   \n",
              "KNN_RFE                {'algorithm': 'auto', 'n_neighbors': 3, 'p': 1}   \n",
              "KNN_StratifiedKFold    {'algorithm': 'auto', 'n_neighbors': 5, 'p': 1}   \n",
              "Bagging_KNN                                                        NaN   \n",
              "\n",
              "                    Best CV Accuracy Train Accuracy Test Accuracy  \n",
              "LogisticRegression          0.860714       0.861111      0.833333  \n",
              "LogReg_Reduced              0.846429       0.847222      0.944444  \n",
              "SVM                         0.739286            1.0      0.777778  \n",
              "SVM_Refined                 0.666071       0.902778      0.555556  \n",
              "SVM_Polynomial              0.846429       0.708333      0.666667  \n",
              "Bagging_SVM                      NaN           0.75      0.611111  \n",
              "DecisionTree                0.767857       0.861111      0.444444  \n",
              "D_Tree_Randomized           0.735714       0.847222      0.666667  \n",
              "D_Tree_Polynomial              0.875       0.819444      0.888889  \n",
              "RandomForest                0.753571            1.0      0.722222  \n",
              "KNN                         0.682143       0.847222      0.611111  \n",
              "KNN_RFE                     0.791071       0.833333      0.722222  \n",
              "KNN_StratifiedKFold         0.666071       0.722222      0.555556  \n",
              "Bagging_KNN                      NaN       0.722222      0.555556  "
            ]
          },
          "execution_count": 31,
          "metadata": {},
          "output_type": "execute_result"
        }
      ],
      "source": [
        "# Creating a DataFrame from the results dictionary\n",
        "results_df = pd.DataFrame(results).T\n",
        "results_df = results_df[['best_params', 'best_score', 'train_accuracy', 'test_accuracy']]\n",
        "results_df = results_df.rename(columns={\n",
        "    'best_params': 'Best Hyperparameters',\n",
        "    'best_score': 'Best CV Accuracy',\n",
        "    'train_accuracy': 'Train Accuracy',\n",
        "    'test_accuracy': 'Test Accuracy'\n",
        "})\n",
        "\n",
        "# Display the summary table\n",
        "results_df"
      ]
    },
    {
      "cell_type": "markdown",
      "metadata": {},
      "source": [
        "We can also plot a bar chart that shows both <code>Train Accuracy</code> and <code>Test Accuracy</code>. This can help us understand if a model is overfitting (high train accuracy but low test accuracy)."
      ]
    },
    {
      "cell_type": "code",
      "execution_count": 55,
      "metadata": {},
      "outputs": [
        {
          "data": {
            "image/png": "[encoded data removed]",
            "text/plain": [
              "<Figure size 1200x500 with 1 Axes>"
            ]
          },
          "metadata": {},
          "output_type": "display_data"
        }
      ],
      "source": [
        "# Define custom colors for the bars\n",
        "palette = {\n",
        "    'Train Accuracy': '#C5E3FF',\n",
        "    'Test Accuracy': '#0061BB'\n",
        "}\n",
        "\n",
        "# Plot the bar chart with custom colors\n",
        "plt.figure(figsize=(12, 5))\n",
        "ax = sns.barplot(x='Model', y='Accuracy', hue='Metric', data=results_melted, palette=palette)\n",
        "\n",
        "# Add annotation for best test accuracy\n",
        "for i in range(len(results_df)):\n",
        "    if results_df['Model'][i] == best_model:\n",
        "        ax.annotate('Best Test Accuracy',\n",
        "                    xy=(i + 0.18, best_test_accuracy + 0.005),\n",
        "                    xytext=(i + 0.18, best_test_accuracy + 0.07),\n",
        "                    arrowprops=dict(facecolor='black', shrink=0.05),\n",
        "                    ha='center')\n",
        "\n",
        "plt.title('Train and Test Accuracy Comparison Across Models')\n",
        "plt.ylabel('Accuracy')\n",
        "plt.xlabel('Model')\n",
        "plt.xticks(rotation=45)\n",
        "plt.legend(title='Metric')\n",
        "plt.show()\n"
      ]
    },
    {
      "cell_type": "markdown",
      "metadata": {},
      "source": [
        "## Authors\n"
      ]
    },
    {
      "cell_type": "markdown",
      "metadata": {},
      "source": [
        "[Santiago Semensi](www.linkedin.com/in/santiago-semensi-513842228) Has a Bachelor's degree in Industrial Design, student of the IBM Data Science Professional Certificate program.\n",
        "\n",
        "[Pratiksha Verma](https://www.linkedin.com/in/pratiksha-verma-6487561b1/?utm_medium=Exinfluencer&utm_source=Exinfluencer&utm_content=000026UJ&utm_term=10006555&utm_id=NA-SkillsNetwork-Channel-SkillsNetworkCoursesIBMDS0321ENSkillsNetwork865-2023-01-01)\n"
      ]
    },
    {
      "cell_type": "markdown",
      "metadata": {},
      "source": [
        "## Change Log\n"
      ]
    },
    {
      "cell_type": "markdown",
      "metadata": {},
      "source": [
        "| Date (YYYY-MM-DD) | Version | Changed By      | Change Description      |\n",
        "| ----------------- | ------- | -------------   | ----------------------- |\n",
        "| 2024-02-24        | 1.1     | Santiago Semensi| Completed tasks and improve performance on predictive models|\n",
        "| 2022-11-09        | 1.0     | Pratiksha Verma | Converted initial version to Jupyterlite|\n"
      ]
    },
    {
      "cell_type": "markdown",
      "metadata": {},
      "source": [
        "### <h3 align=\"center\"> IBM Corporation 2022. All rights reserved. <h3/>\n"
      ]
    }
  ],
  "metadata": {
    "kernelspec": {
      "display_name": "base",
      "language": "python",
      "name": "python3"
    },
    "language_info": {
      "codemirror_mode": {
        "name": "ipython",
        "version": 3
      },
      "file_extension": ".py",
      "mimetype": "text/x-python",
      "name": "python",
      "nbconvert_exporter": "python",
      "pygments_lexer": "ipython3",
      "version": "3.11.5"
    }
  },
  "nbformat": 4,
  "nbformat_minor": 4
}
